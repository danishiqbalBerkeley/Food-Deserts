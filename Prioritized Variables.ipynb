{
 "cells": [
  {
   "cell_type": "code",
   "execution_count": 3,
   "metadata": {
    "collapsed": true
   },
   "outputs": [],
   "source": [
    "c = [('GroupQuartersFlag', -2.2647119453922016), ('LowIncomeTracts', -0.2473151946064728), ('Percent; OCCUPANCY STATUS 0 Total housing units 0 Occupied housing units', -0.08640064839695874), ('Employed; Estimate; Population 20 to 64 years', -0.040622271505820581), ('Unemployment rate; Estimate; EDUCATIONAL ATTAINMENT 0 Population 25 to 64 years', -0.027083914660773596), ('Employed; Estimate; EDUCATIONAL ATTAINMENT 0 Population 25 to 64 years', -0.019258571097321021), (\"Employed; Estimate; EDUCATIONAL ATTAINMENT 0 Bachelor's degree or higher\", -0.016222204937093525), ('Total; Estimate; PERCENT IMPUTED 0 Educational attainment', -0.014509327091600134), (\"Total; Estimate; POVERTY RATE FOR THE POPULATION 25 YEARS AND OVER FOR WHOM POVERTY STATUS IS DETERMINED BY EDUCATIONAL ATTAINMENT LEVEL 0 Bachelor's degree or higher\", -0.013863943902665174), (\"Total; Estimate; Bachelor's degree\", -0.013672208005330144), (\"Unemployment rate; Estimate; EDUCATIONAL ATTAINMENT 0 Bachelor's degree or higher\", -0.011324242733263604), ('TractHUNV', -0.0098202083157131748), ('In labor force; Estimate; EDUCATIONAL ATTAINMENT 0 Less than high school graduate', -0.0096081690472118158), (\"Total; Estimate; POVERTY RATE FOR THE POPULATION 25 YEARS AND OVER FOR WHOM POVERTY STATUS IS DETERMINED BY EDUCATIONAL ATTAINMENT LEVEL 0 Some college or associate's degree\", -0.009538329062983639), ('Total; Estimate; 9th to 12th grade no diploma', -0.0084525753102467262), ('Unemployment rate; Estimate; Population 20 to 64 years', -0.0074196236603027528), ('Total; Estimate; High school graduate or higher.3', -0.0067962521863927311), ('Total; Estimate; High school graduate or higher', -0.0057383246592134828), (\"Total; Estimate; Bachelor's degree or higher.1\", -0.0051419504264697503), (\"Total; Estimate; Percent bachelor's degree or higher\", -0.0038405181358301399), ('TractNHOPI', -0.0034740564467040202), ('Total; Estimate; High school graduate (includes equivalency)', -0.0026897228952320004), ('Total; Estimate; POVERTY RATE FOR THE POPULATION 25 YEARS AND OVER FOR WHOM POVERTY STATUS IS DETERMINED BY EDUCATIONAL ATTAINMENT LEVEL 0 Less than high school graduate', -0.0016166706033864319), ('Total; Estimate; Less than high school graduate', -0.0015441889869662877), ('Number; OCCUPANCY STATUS 0 Total housing units', -0.0014208926465542925), ('Total; Estimate; High school graduate or higher.1', -0.0013926054538113545), (\"Total; Estimate; Bachelor's degree or higher\", -0.0013030471815431224), (\"Total; Estimate; Bachelor's degree or higher.2\", -0.001104650905788469), ('Total; Estimate; Population 65 years and over', -0.0009981582017889244), ('Total; Estimate; Population 35 to 44 years', -0.00087449223704427488), (\"Total; Estimate; Some college or associate's degree\", -0.00079655807194639399), (\"Total; Estimate; EDUCATIONAL ATTAINMENT 0 Some college or associate's degree\", -0.00077518685771567938), (\"Employed; Estimate; EDUCATIONAL ATTAINMENT 0 Some college or associate's degree\", -0.00074039193854033981), ('Total; Estimate; Population 25 to 34 years', -0.00060186291840932677), ('Total; Estimate; Population 18 to 24 years', -0.00057215560989699432), ('Number; TENURE 0 Occupied housing units', -0.00046645515942893404), ('TractSeniors', -0.00045475680503360153), ('TractBlack', -0.00032995681888590934), ('TractOMultir', -0.00032130990645013038), ('Number; OCCUPANCY STATUS 0 Total housing units 0 Occupied housing units', -0.00031243290971506166), ('TractAsian', -0.0003036739202801583), ('TractHispanic', -0.0002609953638077125), ('TractWhite', -0.00023868978470560894), (\"Total; Estimate; EDUCATIONAL ATTAINMENT 0 Bachelor's degree or higher\", -0.00019728332589856313), ('Total; Estimate; Population 25 years and over', -0.00013689972185786578), ('POP2010', -0.00011924522104691591), ('PovertyRate', -0.00010038557209364833), ('Total; Estimate; EDUCATIONAL ATTAINMENT 0 Population 25 to 64 years', -9.5025267117464343e-05), ('TractLOWI', -6.246157490304704e-05), ('Total; Estimate; MEDIAN EARNINGS IN THE PAST 12 MONTHS (IN 2010 INFLATION0ADJUSTED DOLLARS) 0 Population 25 years and over with earnings', -7.6643630518583465e-06), ('Total; Estimate; MEDIAN EARNINGS IN THE PAST 12 MONTHS (IN 2010 INFLATION0ADJUSTED DOLLARS) 0 Less than high school graduate', -2.566139069271018e-06), ('MedianFamilyIncome', -7.6690195075070455e-07), ('Total; Estimate; MEDIAN EARNINGS IN THE PAST 12 MONTHS (IN 2010 INFLATION0ADJUSTED DOLLARS) 0 Graduate or professional degree', -7.137322466213691e-07), (\"Total; Estimate; MEDIAN EARNINGS IN THE PAST 12 MONTHS (IN 2010 INFLATION0ADJUSTED DOLLARS) 0 Bachelor's degree\", 3.2875521618688149e-06), ('Total; Estimate; MEDIAN EARNINGS IN THE PAST 12 MONTHS (IN 2010 INFLATION0ADJUSTED DOLLARS) 0 High school graduate (includes equivalency)', 9.4219072650262529e-06), (\"Total; Estimate; MEDIAN EARNINGS IN THE PAST 12 MONTHS (IN 2010 INFLATION0ADJUSTED DOLLARS) 0 Some college or associate's degree\", 1.037729069234815e-05), ('Total; Estimate; EDUCATIONAL ATTAINMENT 0 High school graduate (includes equivalency)', 0.00013593286386783573), ('In labor force; Estimate; EDUCATIONAL ATTAINMENT 0 High school graduate (includes equivalency)', 0.00018951376552455164), ('Total; Estimate; Population 20 to 64 years', 0.00020414182726980159), ('Total; Estimate; Population 45 to 64 years', 0.00032821601090025893), ('TractSNAP', 0.00066941480241985627), ('Total; Estimate; EDUCATIONAL ATTAINMENT 0 Less than high school graduate', 0.0007589296953759532), ('NUMGQTRS', 0.001010143690833788), ('Unemployment rate; Estimate; EDUCATIONAL ATTAINMENT 0 High school graduate (includes equivalency)', 0.0010436240960414094), ('OHU2010', 0.0011346452577277067), ('TractKids', 0.0012990403014021331), ('Total; Estimate; High school graduate or higher.2', 0.0016575371239218868), ('Number; TENURE 0 Occupied housing units 0 Owner occupied', 0.0018980786945874738), ('Number; TENURE 0 Occupied housing units 0 Owner occupied 0 Owned with a mortgage or loan', 0.0024257630114893299), ('Total; Estimate; Percent high school graduate or higher', 0.002456649798495027), ('Number; TENURE 0 Occupied housing units 0 Owner occupied 0 Owned free and clear', 0.002578024523354551), ('Number; TENURE 0 Occupied housing units 0 Renter occupied', 0.0026198487564009156), ('Total; Estimate; POVERTY RATE FOR THE POPULATION 25 YEARS AND OVER FOR WHOM POVERTY STATUS IS DETERMINED BY EDUCATIONAL ATTAINMENT LEVEL 0 High school graduate (includes equivalency)', 0.002658686165544813), ('TractAIAN', 0.0031028768331635092), ('Employed; Estimate; EDUCATIONAL ATTAINMENT 0 High school graduate (includes equivalency)', 0.0038703925788860036), (\"Total; Estimate; Bachelor's degree or higher.3\", 0.0040880040377204415), ('In labor force; Estimate; EDUCATIONAL ATTAINMENT 0 Population 25 to 64 years', 0.0043484462057756367), ('Unemployment rate; Estimate; EDUCATIONAL ATTAINMENT 0 Less than high school graduate', 0.0062326880193055113), ('In labor force; Estimate; Population 20 to 64 years', 0.0075408118586856553), ('Employed; Estimate; EDUCATIONAL ATTAINMENT 0 Less than high school graduate', 0.0076670480998359746), ('Total; Estimate; High school graduate (includes equivalency).1', 0.0092577694053202261), (\"Unemployment rate; Estimate; EDUCATIONAL ATTAINMENT 0 Some college or associate's degree\", 0.0099848169487263827), ('Total; Estimate; Less than 9th grade', 0.010063419174271587), ('Percent; TENURE 0 Occupied housing units', 0.01194602823387584), (\"In labor force; Estimate; EDUCATIONAL ATTAINMENT 0 Some college or associate's degree\", 0.012918046406246842), (\"In labor force; Estimate; EDUCATIONAL ATTAINMENT 0 Bachelor's degree or higher\", 0.013024344547799533), ('Total; Estimate; Graduate or professional degree', 0.014708866532950893), (\"Total; Estimate; Associate's degree\", 0.017198028933542175), (\"Total; Estimate; Bachelor's degree or higher.4\", 0.018050810842542425), ('Percent; TENURE 0 Occupied housing units 0 Renter occupied', 0.018178618909381095), ('Percent; TENURE 0 Occupied housing units 0 Owner occupied', 0.020135387141666142), ('Percent; TENURE 0 Occupied housing units 0 Owner occupied 0 Owned with a mortgage or loan', 0.023858752444295809), ('Percent; TENURE 0 Occupied housing units 0 Owner occupied 0 Owned free and clear', 0.028257511471563818), ('Total; Estimate; Some college no degree', 0.034870568943637076), ('Percent; OCCUPANCY STATUS 0 Total housing units', 0.035211660517939752), ('HUNVFlag', 2.1977599979578279), ('PCTGQTRS', 2.3983857387490937), ('Urban', 3.524705538535748)]\n"
   ]
  },
  {
   "cell_type": "code",
   "execution_count": null,
   "metadata": {
    "collapsed": true
   },
   "outputs": [],
   "source": []
  },
  {
   "cell_type": "code",
   "execution_count": 4,
   "metadata": {
    "collapsed": false
   },
   "outputs": [
    {
     "data": {
      "text/plain": [
       "[('GroupQuartersFlag', -2.2647119453922016),\n",
       " ('LowIncomeTracts', -0.2473151946064728),\n",
       " ('Percent; OCCUPANCY STATUS 0 Total housing units 0 Occupied housing units',\n",
       "  -0.08640064839695874),\n",
       " ('Employed; Estimate; Population 20 to 64 years', -0.04062227150582058),\n",
       " ('Unemployment rate; Estimate; EDUCATIONAL ATTAINMENT 0 Population 25 to 64 years',\n",
       "  -0.027083914660773596),\n",
       " ('Employed; Estimate; EDUCATIONAL ATTAINMENT 0 Population 25 to 64 years',\n",
       "  -0.01925857109732102),\n",
       " (\"Employed; Estimate; EDUCATIONAL ATTAINMENT 0 Bachelor's degree or higher\",\n",
       "  -0.016222204937093525),\n",
       " ('Total; Estimate; PERCENT IMPUTED 0 Educational attainment',\n",
       "  -0.014509327091600134),\n",
       " (\"Total; Estimate; POVERTY RATE FOR THE POPULATION 25 YEARS AND OVER FOR WHOM POVERTY STATUS IS DETERMINED BY EDUCATIONAL ATTAINMENT LEVEL 0 Bachelor's degree or higher\",\n",
       "  -0.013863943902665174),\n",
       " (\"Total; Estimate; Bachelor's degree\", -0.013672208005330144),\n",
       " (\"Unemployment rate; Estimate; EDUCATIONAL ATTAINMENT 0 Bachelor's degree or higher\",\n",
       "  -0.011324242733263604),\n",
       " ('TractHUNV', -0.009820208315713175),\n",
       " ('In labor force; Estimate; EDUCATIONAL ATTAINMENT 0 Less than high school graduate',\n",
       "  -0.009608169047211816),\n",
       " (\"Total; Estimate; POVERTY RATE FOR THE POPULATION 25 YEARS AND OVER FOR WHOM POVERTY STATUS IS DETERMINED BY EDUCATIONAL ATTAINMENT LEVEL 0 Some college or associate's degree\",\n",
       "  -0.009538329062983639),\n",
       " ('Total; Estimate; 9th to 12th grade no diploma', -0.008452575310246726),\n",
       " ('Unemployment rate; Estimate; Population 20 to 64 years',\n",
       "  -0.007419623660302753),\n",
       " ('Total; Estimate; High school graduate or higher.3', -0.006796252186392731),\n",
       " ('Total; Estimate; High school graduate or higher', -0.005738324659213483),\n",
       " (\"Total; Estimate; Bachelor's degree or higher.1\", -0.00514195042646975),\n",
       " (\"Total; Estimate; Percent bachelor's degree or higher\",\n",
       "  -0.00384051813583014),\n",
       " ('TractNHOPI', -0.0034740564467040202),\n",
       " ('Total; Estimate; High school graduate (includes equivalency)',\n",
       "  -0.0026897228952320004),\n",
       " ('Total; Estimate; POVERTY RATE FOR THE POPULATION 25 YEARS AND OVER FOR WHOM POVERTY STATUS IS DETERMINED BY EDUCATIONAL ATTAINMENT LEVEL 0 Less than high school graduate',\n",
       "  -0.001616670603386432),\n",
       " ('Total; Estimate; Less than high school graduate', -0.0015441889869662877),\n",
       " ('Number; OCCUPANCY STATUS 0 Total housing units', -0.0014208926465542925),\n",
       " ('Total; Estimate; High school graduate or higher.1', -0.0013926054538113545),\n",
       " (\"Total; Estimate; Bachelor's degree or higher\", -0.0013030471815431224),\n",
       " (\"Total; Estimate; Bachelor's degree or higher.2\", -0.001104650905788469),\n",
       " ('Total; Estimate; Population 65 years and over', -0.0009981582017889244),\n",
       " ('Total; Estimate; Population 35 to 44 years', -0.0008744922370442749),\n",
       " (\"Total; Estimate; Some college or associate's degree\",\n",
       "  -0.000796558071946394),\n",
       " (\"Total; Estimate; EDUCATIONAL ATTAINMENT 0 Some college or associate's degree\",\n",
       "  -0.0007751868577156794),\n",
       " (\"Employed; Estimate; EDUCATIONAL ATTAINMENT 0 Some college or associate's degree\",\n",
       "  -0.0007403919385403398),\n",
       " ('Total; Estimate; Population 25 to 34 years', -0.0006018629184093268),\n",
       " ('Total; Estimate; Population 18 to 24 years', -0.0005721556098969943),\n",
       " ('Number; TENURE 0 Occupied housing units', -0.00046645515942893404),\n",
       " ('TractSeniors', -0.00045475680503360153),\n",
       " ('TractBlack', -0.00032995681888590934),\n",
       " ('TractOMultir', -0.0003213099064501304),\n",
       " ('Number; OCCUPANCY STATUS 0 Total housing units 0 Occupied housing units',\n",
       "  -0.00031243290971506166),\n",
       " ('TractAsian', -0.0003036739202801583),\n",
       " ('TractHispanic', -0.0002609953638077125),\n",
       " ('TractWhite', -0.00023868978470560894),\n",
       " (\"Total; Estimate; EDUCATIONAL ATTAINMENT 0 Bachelor's degree or higher\",\n",
       "  -0.00019728332589856313),\n",
       " ('Total; Estimate; Population 25 years and over', -0.00013689972185786578),\n",
       " ('POP2010', -0.00011924522104691591),\n",
       " ('PovertyRate', -0.00010038557209364833),\n",
       " ('Total; Estimate; EDUCATIONAL ATTAINMENT 0 Population 25 to 64 years',\n",
       "  -9.502526711746434e-05),\n",
       " ('TractLOWI', -6.246157490304704e-05),\n",
       " ('Total; Estimate; MEDIAN EARNINGS IN THE PAST 12 MONTHS (IN 2010 INFLATION0ADJUSTED DOLLARS) 0 Population 25 years and over with earnings',\n",
       "  -7.664363051858347e-06),\n",
       " ('Total; Estimate; MEDIAN EARNINGS IN THE PAST 12 MONTHS (IN 2010 INFLATION0ADJUSTED DOLLARS) 0 Less than high school graduate',\n",
       "  -2.566139069271018e-06),\n",
       " ('MedianFamilyIncome', -7.669019507507045e-07),\n",
       " ('Total; Estimate; MEDIAN EARNINGS IN THE PAST 12 MONTHS (IN 2010 INFLATION0ADJUSTED DOLLARS) 0 Graduate or professional degree',\n",
       "  -7.137322466213691e-07),\n",
       " (\"Total; Estimate; MEDIAN EARNINGS IN THE PAST 12 MONTHS (IN 2010 INFLATION0ADJUSTED DOLLARS) 0 Bachelor's degree\",\n",
       "  3.287552161868815e-06),\n",
       " ('Total; Estimate; MEDIAN EARNINGS IN THE PAST 12 MONTHS (IN 2010 INFLATION0ADJUSTED DOLLARS) 0 High school graduate (includes equivalency)',\n",
       "  9.421907265026253e-06),\n",
       " (\"Total; Estimate; MEDIAN EARNINGS IN THE PAST 12 MONTHS (IN 2010 INFLATION0ADJUSTED DOLLARS) 0 Some college or associate's degree\",\n",
       "  1.037729069234815e-05),\n",
       " ('Total; Estimate; EDUCATIONAL ATTAINMENT 0 High school graduate (includes equivalency)',\n",
       "  0.00013593286386783573),\n",
       " ('In labor force; Estimate; EDUCATIONAL ATTAINMENT 0 High school graduate (includes equivalency)',\n",
       "  0.00018951376552455164),\n",
       " ('Total; Estimate; Population 20 to 64 years', 0.0002041418272698016),\n",
       " ('Total; Estimate; Population 45 to 64 years', 0.00032821601090025893),\n",
       " ('TractSNAP', 0.0006694148024198563),\n",
       " ('Total; Estimate; EDUCATIONAL ATTAINMENT 0 Less than high school graduate',\n",
       "  0.0007589296953759532),\n",
       " ('NUMGQTRS', 0.001010143690833788),\n",
       " ('Unemployment rate; Estimate; EDUCATIONAL ATTAINMENT 0 High school graduate (includes equivalency)',\n",
       "  0.0010436240960414094),\n",
       " ('OHU2010', 0.0011346452577277067),\n",
       " ('TractKids', 0.001299040301402133),\n",
       " ('Total; Estimate; High school graduate or higher.2', 0.0016575371239218868),\n",
       " ('Number; TENURE 0 Occupied housing units 0 Owner occupied',\n",
       "  0.0018980786945874738),\n",
       " ('Number; TENURE 0 Occupied housing units 0 Owner occupied 0 Owned with a mortgage or loan',\n",
       "  0.00242576301148933),\n",
       " ('Total; Estimate; Percent high school graduate or higher',\n",
       "  0.002456649798495027),\n",
       " ('Number; TENURE 0 Occupied housing units 0 Owner occupied 0 Owned free and clear',\n",
       "  0.002578024523354551),\n",
       " ('Number; TENURE 0 Occupied housing units 0 Renter occupied',\n",
       "  0.0026198487564009156),\n",
       " ('Total; Estimate; POVERTY RATE FOR THE POPULATION 25 YEARS AND OVER FOR WHOM POVERTY STATUS IS DETERMINED BY EDUCATIONAL ATTAINMENT LEVEL 0 High school graduate (includes equivalency)',\n",
       "  0.002658686165544813),\n",
       " ('TractAIAN', 0.003102876833163509),\n",
       " ('Employed; Estimate; EDUCATIONAL ATTAINMENT 0 High school graduate (includes equivalency)',\n",
       "  0.0038703925788860036),\n",
       " (\"Total; Estimate; Bachelor's degree or higher.3\", 0.0040880040377204415),\n",
       " ('In labor force; Estimate; EDUCATIONAL ATTAINMENT 0 Population 25 to 64 years',\n",
       "  0.004348446205775637),\n",
       " ('Unemployment rate; Estimate; EDUCATIONAL ATTAINMENT 0 Less than high school graduate',\n",
       "  0.006232688019305511),\n",
       " ('In labor force; Estimate; Population 20 to 64 years', 0.007540811858685655),\n",
       " ('Employed; Estimate; EDUCATIONAL ATTAINMENT 0 Less than high school graduate',\n",
       "  0.007667048099835975),\n",
       " ('Total; Estimate; High school graduate (includes equivalency).1',\n",
       "  0.009257769405320226),\n",
       " (\"Unemployment rate; Estimate; EDUCATIONAL ATTAINMENT 0 Some college or associate's degree\",\n",
       "  0.009984816948726383),\n",
       " ('Total; Estimate; Less than 9th grade', 0.010063419174271587),\n",
       " ('Percent; TENURE 0 Occupied housing units', 0.01194602823387584),\n",
       " (\"In labor force; Estimate; EDUCATIONAL ATTAINMENT 0 Some college or associate's degree\",\n",
       "  0.012918046406246842),\n",
       " (\"In labor force; Estimate; EDUCATIONAL ATTAINMENT 0 Bachelor's degree or higher\",\n",
       "  0.013024344547799533),\n",
       " ('Total; Estimate; Graduate or professional degree', 0.014708866532950893),\n",
       " (\"Total; Estimate; Associate's degree\", 0.017198028933542175),\n",
       " (\"Total; Estimate; Bachelor's degree or higher.4\", 0.018050810842542425),\n",
       " ('Percent; TENURE 0 Occupied housing units 0 Renter occupied',\n",
       "  0.018178618909381095),\n",
       " ('Percent; TENURE 0 Occupied housing units 0 Owner occupied',\n",
       "  0.020135387141666142),\n",
       " ('Percent; TENURE 0 Occupied housing units 0 Owner occupied 0 Owned with a mortgage or loan',\n",
       "  0.02385875244429581),\n",
       " ('Percent; TENURE 0 Occupied housing units 0 Owner occupied 0 Owned free and clear',\n",
       "  0.02825751147156382),\n",
       " ('Total; Estimate; Some college no degree', 0.034870568943637076),\n",
       " ('Percent; OCCUPANCY STATUS 0 Total housing units', 0.03521166051793975),\n",
       " ('HUNVFlag', 2.197759997957828),\n",
       " ('PCTGQTRS', 2.3983857387490937),\n",
       " ('Urban', 3.524705538535748)]"
      ]
     },
     "execution_count": 4,
     "metadata": {},
     "output_type": "execute_result"
    }
   ],
   "source": [
    "c"
   ]
  },
  {
   "cell_type": "code",
   "execution_count": 5,
   "metadata": {
    "collapsed": false
   },
   "outputs": [
    {
     "name": "stdout",
     "output_type": "stream",
     "text": [
      "98\n"
     ]
    }
   ],
   "source": [
    "print(len(c))"
   ]
  },
  {
   "cell_type": "code",
   "execution_count": 10,
   "metadata": {
    "collapsed": false
   },
   "outputs": [
    {
     "name": "stdout",
     "output_type": "stream",
     "text": [
      "GroupQuartersFlag , -2.2647119453922016\n",
      "LowIncomeTracts , -0.2473151946064728\n",
      "Percent; OCCUPANCY STATUS 0 Total housing units 0 Occupied housing units , -0.08640064839695874\n",
      "Employed; Estimate; Population 20 to 64 years , -0.04062227150582058\n",
      "Unemployment rate; Estimate; EDUCATIONAL ATTAINMENT 0 Population 25 to 64 years , -0.027083914660773596\n",
      "Employed; Estimate; EDUCATIONAL ATTAINMENT 0 Population 25 to 64 years , -0.01925857109732102\n",
      "Employed; Estimate; EDUCATIONAL ATTAINMENT 0 Bachelor's degree or higher , -0.016222204937093525\n",
      "Total; Estimate; PERCENT IMPUTED 0 Educational attainment , -0.014509327091600134\n",
      "Total; Estimate; POVERTY RATE FOR THE POPULATION 25 YEARS AND OVER FOR WHOM POVERTY STATUS IS DETERMINED BY EDUCATIONAL ATTAINMENT LEVEL 0 Bachelor's degree or higher , -0.013863943902665174\n",
      "Total; Estimate; Bachelor's degree , -0.013672208005330144\n",
      "Unemployment rate; Estimate; EDUCATIONAL ATTAINMENT 0 Bachelor's degree or higher , -0.011324242733263604\n",
      "TractHUNV , -0.009820208315713175\n",
      "In labor force; Estimate; EDUCATIONAL ATTAINMENT 0 Less than high school graduate , -0.009608169047211816\n",
      "Total; Estimate; POVERTY RATE FOR THE POPULATION 25 YEARS AND OVER FOR WHOM POVERTY STATUS IS DETERMINED BY EDUCATIONAL ATTAINMENT LEVEL 0 Some college or associate's degree , -0.009538329062983639\n",
      "Total; Estimate; 9th to 12th grade no diploma , -0.008452575310246726\n",
      "Unemployment rate; Estimate; Population 20 to 64 years , -0.007419623660302753\n",
      "Total; Estimate; High school graduate or higher.3 , -0.006796252186392731\n",
      "Total; Estimate; High school graduate or higher , -0.005738324659213483\n",
      "Total; Estimate; Bachelor's degree or higher.1 , -0.00514195042646975\n",
      "Total; Estimate; Percent bachelor's degree or higher , -0.00384051813583014\n",
      "TractNHOPI , -0.0034740564467040202\n",
      "Total; Estimate; High school graduate (includes equivalency) , -0.0026897228952320004\n",
      "Total; Estimate; POVERTY RATE FOR THE POPULATION 25 YEARS AND OVER FOR WHOM POVERTY STATUS IS DETERMINED BY EDUCATIONAL ATTAINMENT LEVEL 0 Less than high school graduate , -0.001616670603386432\n",
      "Total; Estimate; Less than high school graduate , -0.0015441889869662877\n",
      "Number; OCCUPANCY STATUS 0 Total housing units , -0.0014208926465542925\n",
      "Total; Estimate; High school graduate or higher.1 , -0.0013926054538113545\n",
      "Total; Estimate; Bachelor's degree or higher , -0.0013030471815431224\n",
      "Total; Estimate; Bachelor's degree or higher.2 , -0.001104650905788469\n",
      "Total; Estimate; Population 65 years and over , -0.0009981582017889244\n",
      "Total; Estimate; Population 35 to 44 years , -0.0008744922370442749\n",
      "Total; Estimate; Some college or associate's degree , -0.000796558071946394\n",
      "Total; Estimate; EDUCATIONAL ATTAINMENT 0 Some college or associate's degree , -0.0007751868577156794\n",
      "Employed; Estimate; EDUCATIONAL ATTAINMENT 0 Some college or associate's degree , -0.0007403919385403398\n",
      "Total; Estimate; Population 25 to 34 years , -0.0006018629184093268\n",
      "Total; Estimate; Population 18 to 24 years , -0.0005721556098969943\n",
      "Number; TENURE 0 Occupied housing units , -0.00046645515942893404\n",
      "TractSeniors , -0.00045475680503360153\n",
      "TractBlack , -0.00032995681888590934\n",
      "TractOMultir , -0.0003213099064501304\n",
      "Number; OCCUPANCY STATUS 0 Total housing units 0 Occupied housing units , -0.00031243290971506166\n",
      "TractAsian , -0.0003036739202801583\n",
      "TractHispanic , -0.0002609953638077125\n",
      "TractWhite , -0.00023868978470560894\n",
      "Total; Estimate; EDUCATIONAL ATTAINMENT 0 Bachelor's degree or higher , -0.00019728332589856313\n",
      "Total; Estimate; Population 25 years and over , -0.00013689972185786578\n",
      "POP2010 , -0.00011924522104691591\n",
      "PovertyRate , -0.00010038557209364833\n",
      "Total; Estimate; EDUCATIONAL ATTAINMENT 0 Population 25 to 64 years , -9.502526711746434e-05\n",
      "TractLOWI , -6.246157490304704e-05\n",
      "Total; Estimate; MEDIAN EARNINGS IN THE PAST 12 MONTHS (IN 2010 INFLATION0ADJUSTED DOLLARS) 0 Population 25 years and over with earnings , -7.664363051858347e-06\n",
      "Total; Estimate; MEDIAN EARNINGS IN THE PAST 12 MONTHS (IN 2010 INFLATION0ADJUSTED DOLLARS) 0 Less than high school graduate , -2.566139069271018e-06\n",
      "MedianFamilyIncome , -7.669019507507045e-07\n",
      "Total; Estimate; MEDIAN EARNINGS IN THE PAST 12 MONTHS (IN 2010 INFLATION0ADJUSTED DOLLARS) 0 Graduate or professional degree , -7.137322466213691e-07\n",
      "Total; Estimate; MEDIAN EARNINGS IN THE PAST 12 MONTHS (IN 2010 INFLATION0ADJUSTED DOLLARS) 0 Bachelor's degree , 3.287552161868815e-06\n",
      "Total; Estimate; MEDIAN EARNINGS IN THE PAST 12 MONTHS (IN 2010 INFLATION0ADJUSTED DOLLARS) 0 High school graduate (includes equivalency) , 9.421907265026253e-06\n",
      "Total; Estimate; MEDIAN EARNINGS IN THE PAST 12 MONTHS (IN 2010 INFLATION0ADJUSTED DOLLARS) 0 Some college or associate's degree , 1.037729069234815e-05\n",
      "Total; Estimate; EDUCATIONAL ATTAINMENT 0 High school graduate (includes equivalency) , 0.00013593286386783573\n",
      "In labor force; Estimate; EDUCATIONAL ATTAINMENT 0 High school graduate (includes equivalency) , 0.00018951376552455164\n",
      "Total; Estimate; Population 20 to 64 years , 0.0002041418272698016\n",
      "Total; Estimate; Population 45 to 64 years , 0.00032821601090025893\n",
      "TractSNAP , 0.0006694148024198563\n",
      "Total; Estimate; EDUCATIONAL ATTAINMENT 0 Less than high school graduate , 0.0007589296953759532\n",
      "NUMGQTRS , 0.001010143690833788\n",
      "Unemployment rate; Estimate; EDUCATIONAL ATTAINMENT 0 High school graduate (includes equivalency) , 0.0010436240960414094\n",
      "OHU2010 , 0.0011346452577277067\n",
      "TractKids , 0.001299040301402133\n",
      "Total; Estimate; High school graduate or higher.2 , 0.0016575371239218868\n",
      "Number; TENURE 0 Occupied housing units 0 Owner occupied , 0.0018980786945874738\n",
      "Number; TENURE 0 Occupied housing units 0 Owner occupied 0 Owned with a mortgage or loan , 0.00242576301148933\n",
      "Total; Estimate; Percent high school graduate or higher , 0.002456649798495027\n",
      "Number; TENURE 0 Occupied housing units 0 Owner occupied 0 Owned free and clear , 0.002578024523354551\n",
      "Number; TENURE 0 Occupied housing units 0 Renter occupied , 0.0026198487564009156\n",
      "Total; Estimate; POVERTY RATE FOR THE POPULATION 25 YEARS AND OVER FOR WHOM POVERTY STATUS IS DETERMINED BY EDUCATIONAL ATTAINMENT LEVEL 0 High school graduate (includes equivalency) , 0.002658686165544813\n",
      "TractAIAN , 0.003102876833163509\n",
      "Employed; Estimate; EDUCATIONAL ATTAINMENT 0 High school graduate (includes equivalency) , 0.0038703925788860036\n",
      "Total; Estimate; Bachelor's degree or higher.3 , 0.0040880040377204415\n",
      "In labor force; Estimate; EDUCATIONAL ATTAINMENT 0 Population 25 to 64 years , 0.004348446205775637\n",
      "Unemployment rate; Estimate; EDUCATIONAL ATTAINMENT 0 Less than high school graduate , 0.006232688019305511\n",
      "In labor force; Estimate; Population 20 to 64 years , 0.007540811858685655\n",
      "Employed; Estimate; EDUCATIONAL ATTAINMENT 0 Less than high school graduate , 0.007667048099835975\n",
      "Total; Estimate; High school graduate (includes equivalency).1 , 0.009257769405320226\n",
      "Unemployment rate; Estimate; EDUCATIONAL ATTAINMENT 0 Some college or associate's degree , 0.009984816948726383\n",
      "Total; Estimate; Less than 9th grade , 0.010063419174271587\n",
      "Percent; TENURE 0 Occupied housing units , 0.01194602823387584\n",
      "In labor force; Estimate; EDUCATIONAL ATTAINMENT 0 Some college or associate's degree , 0.012918046406246842\n",
      "In labor force; Estimate; EDUCATIONAL ATTAINMENT 0 Bachelor's degree or higher , 0.013024344547799533\n",
      "Total; Estimate; Graduate or professional degree , 0.014708866532950893\n",
      "Total; Estimate; Associate's degree , 0.017198028933542175\n",
      "Total; Estimate; Bachelor's degree or higher.4 , 0.018050810842542425\n",
      "Percent; TENURE 0 Occupied housing units 0 Renter occupied , 0.018178618909381095\n",
      "Percent; TENURE 0 Occupied housing units 0 Owner occupied , 0.020135387141666142\n",
      "Percent; TENURE 0 Occupied housing units 0 Owner occupied 0 Owned with a mortgage or loan , 0.02385875244429581\n",
      "Percent; TENURE 0 Occupied housing units 0 Owner occupied 0 Owned free and clear , 0.02825751147156382\n",
      "Total; Estimate; Some college no degree , 0.034870568943637076\n",
      "Percent; OCCUPANCY STATUS 0 Total housing units , 0.03521166051793975\n",
      "HUNVFlag , 2.197759997957828\n",
      "PCTGQTRS , 2.3983857387490937\n",
      "Urban , 3.524705538535748\n"
     ]
    }
   ],
   "source": [
    "for item in c:\n",
    "    print(item[0],',', item[1])"
   ]
  },
  {
   "cell_type": "code",
   "execution_count": 1,
   "metadata": {
    "collapsed": false
   },
   "outputs": [
    {
     "name": "stderr",
     "output_type": "stream",
     "text": [
      "/Users/farzanaiqbal/anaconda/lib/python3.5/site-packages/sklearn/cross_validation.py:44: DeprecationWarning: This module was deprecated in version 0.18 in favor of the model_selection module into which all the refactored classes and functions are moved. Also note that the interface of the new CV iterators are different from that of this module. This module will be removed in 0.20.\n",
      "  \"This module will be removed in 0.20.\", DeprecationWarning)\n",
      "/Users/farzanaiqbal/anaconda/lib/python3.5/site-packages/sklearn/grid_search.py:43: DeprecationWarning: This module was deprecated in version 0.18 in favor of the model_selection module into which all the refactored classes and functions are moved. This module will be removed in 0.20.\n",
      "  DeprecationWarning)\n"
     ]
    },
    {
     "name": "stdout",
     "output_type": "stream",
     "text": [
      "(8044, 98)\n",
      "(8044, 1)\n"
     ]
    }
   ],
   "source": [
    "import numpy as np\n",
    "import pandas as pd\n",
    "import csv\n",
    "import os\n",
    "from sklearn import metrics\n",
    "from sklearn.linear_model import LogisticRegression\n",
    "from sklearn.grid_search import GridSearchCV\n",
    "from sklearn.neighbors import KNeighborsClassifier\n",
    "from sklearn.ensemble import RandomForestClassifier\n",
    "from sklearn.ensemble import AdaBoostClassifier \n",
    "from sklearn.tree import DecisionTreeClassifier\n",
    "\n",
    "os.getcwd()\n",
    "\n",
    "data = pd.read_csv('./Merged.csv', sep=',')\n",
    "labels = pd.read_csv('./Labels.csv', sep=',')\n",
    "data = data[0:8044]\n",
    "print (data.shape)\n",
    "print (labels.shape)"
   ]
  },
  {
   "cell_type": "code",
   "execution_count": 5,
   "metadata": {
    "collapsed": false
   },
   "outputs": [
    {
     "data": {
      "text/plain": [
       "array(['Urban', 'POP2010', 'OHU2010', 'GroupQuartersFlag', 'NUMGQTRS',\n",
       "       'PCTGQTRS', 'HUNVFlag', 'LowIncomeTracts', 'PovertyRate',\n",
       "       'MedianFamilyIncome', 'TractLOWI', 'TractKids', 'TractSeniors',\n",
       "       'TractWhite', 'TractBlack', 'TractAsian', 'TractNHOPI', 'TractAIAN',\n",
       "       'TractOMultir', 'TractHispanic', 'TractHUNV', 'TractSNAP',\n",
       "       'Number; OCCUPANCY STATUS 0 Total housing units',\n",
       "       'Percent; OCCUPANCY STATUS 0 Total housing units',\n",
       "       'Number; OCCUPANCY STATUS 0 Total housing units 0 Occupied housing units',\n",
       "       'Percent; OCCUPANCY STATUS 0 Total housing units 0 Occupied housing units',\n",
       "       'Number; TENURE 0 Occupied housing units',\n",
       "       'Percent; TENURE 0 Occupied housing units',\n",
       "       'Number; TENURE 0 Occupied housing units 0 Owner occupied',\n",
       "       'Percent; TENURE 0 Occupied housing units 0 Owner occupied',\n",
       "       'Number; TENURE 0 Occupied housing units 0 Owner occupied 0 Owned with a mortgage or loan',\n",
       "       'Percent; TENURE 0 Occupied housing units 0 Owner occupied 0 Owned with a mortgage or loan',\n",
       "       'Number; TENURE 0 Occupied housing units 0 Owner occupied 0 Owned free and clear',\n",
       "       'Percent; TENURE 0 Occupied housing units 0 Owner occupied 0 Owned free and clear',\n",
       "       'Number; TENURE 0 Occupied housing units 0 Renter occupied',\n",
       "       'Percent; TENURE 0 Occupied housing units 0 Renter occupied',\n",
       "       'Total; Estimate; Population 20 to 64 years',\n",
       "       'In labor force; Estimate; Population 20 to 64 years',\n",
       "       'Employed; Estimate; Population 20 to 64 years',\n",
       "       'Unemployment rate; Estimate; Population 20 to 64 years',\n",
       "       'Total; Estimate; EDUCATIONAL ATTAINMENT 0 Population 25 to 64 years',\n",
       "       'In labor force; Estimate; EDUCATIONAL ATTAINMENT 0 Population 25 to 64 years',\n",
       "       'Employed; Estimate; EDUCATIONAL ATTAINMENT 0 Population 25 to 64 years',\n",
       "       'Unemployment rate; Estimate; EDUCATIONAL ATTAINMENT 0 Population 25 to 64 years',\n",
       "       'Total; Estimate; EDUCATIONAL ATTAINMENT 0 Less than high school graduate',\n",
       "       'In labor force; Estimate; EDUCATIONAL ATTAINMENT 0 Less than high school graduate',\n",
       "       'Employed; Estimate; EDUCATIONAL ATTAINMENT 0 Less than high school graduate',\n",
       "       'Unemployment rate; Estimate; EDUCATIONAL ATTAINMENT 0 Less than high school graduate',\n",
       "       'Total; Estimate; EDUCATIONAL ATTAINMENT 0 High school graduate (includes equivalency)',\n",
       "       'In labor force; Estimate; EDUCATIONAL ATTAINMENT 0 High school graduate (includes equivalency)',\n",
       "       'Employed; Estimate; EDUCATIONAL ATTAINMENT 0 High school graduate (includes equivalency)',\n",
       "       'Unemployment rate; Estimate; EDUCATIONAL ATTAINMENT 0 High school graduate (includes equivalency)',\n",
       "       \"Total; Estimate; EDUCATIONAL ATTAINMENT 0 Some college or associate's degree\",\n",
       "       \"In labor force; Estimate; EDUCATIONAL ATTAINMENT 0 Some college or associate's degree\",\n",
       "       \"Employed; Estimate; EDUCATIONAL ATTAINMENT 0 Some college or associate's degree\",\n",
       "       \"Unemployment rate; Estimate; EDUCATIONAL ATTAINMENT 0 Some college or associate's degree\",\n",
       "       \"Total; Estimate; EDUCATIONAL ATTAINMENT 0 Bachelor's degree or higher\",\n",
       "       \"In labor force; Estimate; EDUCATIONAL ATTAINMENT 0 Bachelor's degree or higher\",\n",
       "       \"Employed; Estimate; EDUCATIONAL ATTAINMENT 0 Bachelor's degree or higher\",\n",
       "       \"Unemployment rate; Estimate; EDUCATIONAL ATTAINMENT 0 Bachelor's degree or higher\",\n",
       "       'Total; Estimate; Population 18 to 24 years',\n",
       "       'Total; Estimate; Less than high school graduate',\n",
       "       'Total; Estimate; High school graduate (includes equivalency)',\n",
       "       \"Total; Estimate; Some college or associate's degree\",\n",
       "       \"Total; Estimate; Bachelor's degree or higher\",\n",
       "       'Total; Estimate; Population 25 years and over',\n",
       "       'Total; Estimate; Less than 9th grade',\n",
       "       'Total; Estimate; 9th to 12th grade no diploma',\n",
       "       'Total; Estimate; High school graduate (includes equivalency).1',\n",
       "       'Total; Estimate; Some college no degree',\n",
       "       \"Total; Estimate; Associate's degree\",\n",
       "       \"Total; Estimate; Bachelor's degree\",\n",
       "       'Total; Estimate; Graduate or professional degree',\n",
       "       'Total; Estimate; Percent high school graduate or higher',\n",
       "       \"Total; Estimate; Percent bachelor's degree or higher\",\n",
       "       'Total; Estimate; Population 25 to 34 years',\n",
       "       'Total; Estimate; High school graduate or higher',\n",
       "       \"Total; Estimate; Bachelor's degree or higher.1\",\n",
       "       'Total; Estimate; Population 35 to 44 years',\n",
       "       'Total; Estimate; High school graduate or higher.1',\n",
       "       \"Total; Estimate; Bachelor's degree or higher.2\",\n",
       "       'Total; Estimate; Population 45 to 64 years',\n",
       "       'Total; Estimate; High school graduate or higher.2',\n",
       "       \"Total; Estimate; Bachelor's degree or higher.3\",\n",
       "       'Total; Estimate; Population 65 years and over',\n",
       "       'Total; Estimate; High school graduate or higher.3',\n",
       "       \"Total; Estimate; Bachelor's degree or higher.4\",\n",
       "       'Total; Estimate; POVERTY RATE FOR THE POPULATION 25 YEARS AND OVER FOR WHOM POVERTY STATUS IS DETERMINED BY EDUCATIONAL ATTAINMENT LEVEL 0 Less than high school graduate',\n",
       "       'Total; Estimate; POVERTY RATE FOR THE POPULATION 25 YEARS AND OVER FOR WHOM POVERTY STATUS IS DETERMINED BY EDUCATIONAL ATTAINMENT LEVEL 0 High school graduate (includes equivalency)',\n",
       "       \"Total; Estimate; POVERTY RATE FOR THE POPULATION 25 YEARS AND OVER FOR WHOM POVERTY STATUS IS DETERMINED BY EDUCATIONAL ATTAINMENT LEVEL 0 Some college or associate's degree\",\n",
       "       \"Total; Estimate; POVERTY RATE FOR THE POPULATION 25 YEARS AND OVER FOR WHOM POVERTY STATUS IS DETERMINED BY EDUCATIONAL ATTAINMENT LEVEL 0 Bachelor's degree or higher\",\n",
       "       'Total; Estimate; MEDIAN EARNINGS IN THE PAST 12 MONTHS (IN 2010 INFLATION0ADJUSTED DOLLARS) 0 Population 25 years and over with earnings',\n",
       "       'Total; Estimate; MEDIAN EARNINGS IN THE PAST 12 MONTHS (IN 2010 INFLATION0ADJUSTED DOLLARS) 0 Less than high school graduate',\n",
       "       'Total; Estimate; MEDIAN EARNINGS IN THE PAST 12 MONTHS (IN 2010 INFLATION0ADJUSTED DOLLARS) 0 High school graduate (includes equivalency)',\n",
       "       \"Total; Estimate; MEDIAN EARNINGS IN THE PAST 12 MONTHS (IN 2010 INFLATION0ADJUSTED DOLLARS) 0 Some college or associate's degree\",\n",
       "       \"Total; Estimate; MEDIAN EARNINGS IN THE PAST 12 MONTHS (IN 2010 INFLATION0ADJUSTED DOLLARS) 0 Bachelor's degree\",\n",
       "       'Total; Estimate; MEDIAN EARNINGS IN THE PAST 12 MONTHS (IN 2010 INFLATION0ADJUSTED DOLLARS) 0 Graduate or professional degree',\n",
       "       'Total; Estimate; PERCENT IMPUTED 0 Educational attainment'], dtype=object)"
      ]
     },
     "execution_count": 5,
     "metadata": {},
     "output_type": "execute_result"
    }
   ],
   "source": [
    "data.columns.values"
   ]
  },
  {
   "cell_type": "code",
   "execution_count": 38,
   "metadata": {
    "collapsed": false
   },
   "outputs": [
    {
     "data": {
      "text/plain": [
       "0    6001400100\n",
       "1    6001400200\n",
       "2    6001400300\n",
       "3    6001400400\n",
       "4    6001400500\n",
       "Name:   TractNum, dtype: int64"
      ]
     },
     "execution_count": 38,
     "metadata": {},
     "output_type": "execute_result"
    }
   ],
   "source": [
    "census_tracts = pd.read_csv('./California.csv', sep=',')\n",
    "census_tracts = census_tracts.iloc[0:8044,0]\n",
    "census_tracts.head()"
   ]
  },
  {
   "cell_type": "code",
   "execution_count": null,
   "metadata": {
    "collapsed": true
   },
   "outputs": [],
   "source": []
  },
  {
   "cell_type": "code",
   "execution_count": 37,
   "metadata": {
    "collapsed": false
   },
   "outputs": [
    {
     "data": {
      "text/plain": [
       "0    6001400100\n",
       "1    6001400200\n",
       "2    6001400300\n",
       "3    6001400400\n",
       "4    6001400500\n",
       "5    6001400600\n",
       "6    6001400700\n",
       "7    6001400800\n",
       "8    6001400900\n",
       "9    6001401000\n",
       "Name:   TractNum, dtype: int64"
      ]
     },
     "execution_count": 37,
     "metadata": {},
     "output_type": "execute_result"
    }
   ],
   "source": []
  },
  {
   "cell_type": "code",
   "execution_count": null,
   "metadata": {
    "collapsed": true
   },
   "outputs": [],
   "source": []
  },
  {
   "cell_type": "code",
   "execution_count": null,
   "metadata": {
    "collapsed": true
   },
   "outputs": [],
   "source": []
  },
  {
   "cell_type": "code",
   "execution_count": null,
   "metadata": {
    "collapsed": true
   },
   "outputs": [],
   "source": []
  },
  {
   "cell_type": "code",
   "execution_count": null,
   "metadata": {
    "collapsed": true
   },
   "outputs": [],
   "source": []
  },
  {
   "cell_type": "code",
   "execution_count": null,
   "metadata": {
    "collapsed": true
   },
   "outputs": [],
   "source": []
  },
  {
   "cell_type": "code",
   "execution_count": 31,
   "metadata": {
    "collapsed": false
   },
   "outputs": [
    {
     "ename": "KeyError",
     "evalue": "'TractNum'",
     "output_type": "error",
     "traceback": [
      "\u001b[0;31m---------------------------------------------------------------------------\u001b[0m",
      "\u001b[0;31mKeyError\u001b[0m                                  Traceback (most recent call last)",
      "\u001b[0;32m/Users/farzanaiqbal/anaconda/lib/python3.5/site-packages/pandas/indexes/base.py\u001b[0m in \u001b[0;36mget_loc\u001b[0;34m(self, key, method, tolerance)\u001b[0m\n\u001b[1;32m   2133\u001b[0m             \u001b[0;32mtry\u001b[0m\u001b[0;34m:\u001b[0m\u001b[0;34m\u001b[0m\u001b[0m\n\u001b[0;32m-> 2134\u001b[0;31m                 \u001b[0;32mreturn\u001b[0m \u001b[0mself\u001b[0m\u001b[0;34m.\u001b[0m\u001b[0m_engine\u001b[0m\u001b[0;34m.\u001b[0m\u001b[0mget_loc\u001b[0m\u001b[0;34m(\u001b[0m\u001b[0mkey\u001b[0m\u001b[0;34m)\u001b[0m\u001b[0;34m\u001b[0m\u001b[0m\n\u001b[0m\u001b[1;32m   2135\u001b[0m             \u001b[0;32mexcept\u001b[0m \u001b[0mKeyError\u001b[0m\u001b[0;34m:\u001b[0m\u001b[0;34m\u001b[0m\u001b[0m\n",
      "\u001b[0;32mpandas/index.pyx\u001b[0m in \u001b[0;36mpandas.index.IndexEngine.get_loc (pandas/index.c:4433)\u001b[0;34m()\u001b[0m\n",
      "\u001b[0;32mpandas/index.pyx\u001b[0m in \u001b[0;36mpandas.index.IndexEngine.get_loc (pandas/index.c:4279)\u001b[0;34m()\u001b[0m\n",
      "\u001b[0;32mpandas/src/hashtable_class_helper.pxi\u001b[0m in \u001b[0;36mpandas.hashtable.PyObjectHashTable.get_item (pandas/hashtable.c:13742)\u001b[0;34m()\u001b[0m\n",
      "\u001b[0;32mpandas/src/hashtable_class_helper.pxi\u001b[0m in \u001b[0;36mpandas.hashtable.PyObjectHashTable.get_item (pandas/hashtable.c:13696)\u001b[0;34m()\u001b[0m\n",
      "\u001b[0;31mKeyError\u001b[0m: 'TractNum'",
      "\nDuring handling of the above exception, another exception occurred:\n",
      "\u001b[0;31mKeyError\u001b[0m                                  Traceback (most recent call last)",
      "\u001b[0;32m<ipython-input-31-04917806d64e>\u001b[0m in \u001b[0;36m<module>\u001b[0;34m()\u001b[0m\n\u001b[0;32m----> 1\u001b[0;31m \u001b[0mcensus_tracts\u001b[0m\u001b[0;34m[\u001b[0m\u001b[0;34m'tract'\u001b[0m\u001b[0;34m]\u001b[0m \u001b[0;34m=\u001b[0m \u001b[0mstr\u001b[0m\u001b[0;34m(\u001b[0m\u001b[0mcensus_tracts\u001b[0m\u001b[0;34m[\u001b[0m\u001b[0;34m'TractNum'\u001b[0m\u001b[0;34m]\u001b[0m\u001b[0;34m)\u001b[0m\u001b[0;34m\u001b[0m\u001b[0m\n\u001b[0m",
      "\u001b[0;32m/Users/farzanaiqbal/anaconda/lib/python3.5/site-packages/pandas/core/frame.py\u001b[0m in \u001b[0;36m__getitem__\u001b[0;34m(self, key)\u001b[0m\n\u001b[1;32m   2057\u001b[0m             \u001b[0;32mreturn\u001b[0m \u001b[0mself\u001b[0m\u001b[0;34m.\u001b[0m\u001b[0m_getitem_multilevel\u001b[0m\u001b[0;34m(\u001b[0m\u001b[0mkey\u001b[0m\u001b[0;34m)\u001b[0m\u001b[0;34m\u001b[0m\u001b[0m\n\u001b[1;32m   2058\u001b[0m         \u001b[0;32melse\u001b[0m\u001b[0;34m:\u001b[0m\u001b[0;34m\u001b[0m\u001b[0m\n\u001b[0;32m-> 2059\u001b[0;31m             \u001b[0;32mreturn\u001b[0m \u001b[0mself\u001b[0m\u001b[0;34m.\u001b[0m\u001b[0m_getitem_column\u001b[0m\u001b[0;34m(\u001b[0m\u001b[0mkey\u001b[0m\u001b[0;34m)\u001b[0m\u001b[0;34m\u001b[0m\u001b[0m\n\u001b[0m\u001b[1;32m   2060\u001b[0m \u001b[0;34m\u001b[0m\u001b[0m\n\u001b[1;32m   2061\u001b[0m     \u001b[0;32mdef\u001b[0m \u001b[0m_getitem_column\u001b[0m\u001b[0;34m(\u001b[0m\u001b[0mself\u001b[0m\u001b[0;34m,\u001b[0m \u001b[0mkey\u001b[0m\u001b[0;34m)\u001b[0m\u001b[0;34m:\u001b[0m\u001b[0;34m\u001b[0m\u001b[0m\n",
      "\u001b[0;32m/Users/farzanaiqbal/anaconda/lib/python3.5/site-packages/pandas/core/frame.py\u001b[0m in \u001b[0;36m_getitem_column\u001b[0;34m(self, key)\u001b[0m\n\u001b[1;32m   2064\u001b[0m         \u001b[0;31m# get column\u001b[0m\u001b[0;34m\u001b[0m\u001b[0;34m\u001b[0m\u001b[0m\n\u001b[1;32m   2065\u001b[0m         \u001b[0;32mif\u001b[0m \u001b[0mself\u001b[0m\u001b[0;34m.\u001b[0m\u001b[0mcolumns\u001b[0m\u001b[0;34m.\u001b[0m\u001b[0mis_unique\u001b[0m\u001b[0;34m:\u001b[0m\u001b[0;34m\u001b[0m\u001b[0m\n\u001b[0;32m-> 2066\u001b[0;31m             \u001b[0;32mreturn\u001b[0m \u001b[0mself\u001b[0m\u001b[0;34m.\u001b[0m\u001b[0m_get_item_cache\u001b[0m\u001b[0;34m(\u001b[0m\u001b[0mkey\u001b[0m\u001b[0;34m)\u001b[0m\u001b[0;34m\u001b[0m\u001b[0m\n\u001b[0m\u001b[1;32m   2067\u001b[0m \u001b[0;34m\u001b[0m\u001b[0m\n\u001b[1;32m   2068\u001b[0m         \u001b[0;31m# duplicate columns & possible reduce dimensionality\u001b[0m\u001b[0;34m\u001b[0m\u001b[0;34m\u001b[0m\u001b[0m\n",
      "\u001b[0;32m/Users/farzanaiqbal/anaconda/lib/python3.5/site-packages/pandas/core/generic.py\u001b[0m in \u001b[0;36m_get_item_cache\u001b[0;34m(self, item)\u001b[0m\n\u001b[1;32m   1384\u001b[0m         \u001b[0mres\u001b[0m \u001b[0;34m=\u001b[0m \u001b[0mcache\u001b[0m\u001b[0;34m.\u001b[0m\u001b[0mget\u001b[0m\u001b[0;34m(\u001b[0m\u001b[0mitem\u001b[0m\u001b[0;34m)\u001b[0m\u001b[0;34m\u001b[0m\u001b[0m\n\u001b[1;32m   1385\u001b[0m         \u001b[0;32mif\u001b[0m \u001b[0mres\u001b[0m \u001b[0;32mis\u001b[0m \u001b[0;32mNone\u001b[0m\u001b[0;34m:\u001b[0m\u001b[0;34m\u001b[0m\u001b[0m\n\u001b[0;32m-> 1386\u001b[0;31m             \u001b[0mvalues\u001b[0m \u001b[0;34m=\u001b[0m \u001b[0mself\u001b[0m\u001b[0;34m.\u001b[0m\u001b[0m_data\u001b[0m\u001b[0;34m.\u001b[0m\u001b[0mget\u001b[0m\u001b[0;34m(\u001b[0m\u001b[0mitem\u001b[0m\u001b[0;34m)\u001b[0m\u001b[0;34m\u001b[0m\u001b[0m\n\u001b[0m\u001b[1;32m   1387\u001b[0m             \u001b[0mres\u001b[0m \u001b[0;34m=\u001b[0m \u001b[0mself\u001b[0m\u001b[0;34m.\u001b[0m\u001b[0m_box_item_values\u001b[0m\u001b[0;34m(\u001b[0m\u001b[0mitem\u001b[0m\u001b[0;34m,\u001b[0m \u001b[0mvalues\u001b[0m\u001b[0;34m)\u001b[0m\u001b[0;34m\u001b[0m\u001b[0m\n\u001b[1;32m   1388\u001b[0m             \u001b[0mcache\u001b[0m\u001b[0;34m[\u001b[0m\u001b[0mitem\u001b[0m\u001b[0;34m]\u001b[0m \u001b[0;34m=\u001b[0m \u001b[0mres\u001b[0m\u001b[0;34m\u001b[0m\u001b[0m\n",
      "\u001b[0;32m/Users/farzanaiqbal/anaconda/lib/python3.5/site-packages/pandas/core/internals.py\u001b[0m in \u001b[0;36mget\u001b[0;34m(self, item, fastpath)\u001b[0m\n\u001b[1;32m   3541\u001b[0m \u001b[0;34m\u001b[0m\u001b[0m\n\u001b[1;32m   3542\u001b[0m             \u001b[0;32mif\u001b[0m \u001b[0;32mnot\u001b[0m \u001b[0misnull\u001b[0m\u001b[0;34m(\u001b[0m\u001b[0mitem\u001b[0m\u001b[0;34m)\u001b[0m\u001b[0;34m:\u001b[0m\u001b[0;34m\u001b[0m\u001b[0m\n\u001b[0;32m-> 3543\u001b[0;31m                 \u001b[0mloc\u001b[0m \u001b[0;34m=\u001b[0m \u001b[0mself\u001b[0m\u001b[0;34m.\u001b[0m\u001b[0mitems\u001b[0m\u001b[0;34m.\u001b[0m\u001b[0mget_loc\u001b[0m\u001b[0;34m(\u001b[0m\u001b[0mitem\u001b[0m\u001b[0;34m)\u001b[0m\u001b[0;34m\u001b[0m\u001b[0m\n\u001b[0m\u001b[1;32m   3544\u001b[0m             \u001b[0;32melse\u001b[0m\u001b[0;34m:\u001b[0m\u001b[0;34m\u001b[0m\u001b[0m\n\u001b[1;32m   3545\u001b[0m                 \u001b[0mindexer\u001b[0m \u001b[0;34m=\u001b[0m \u001b[0mnp\u001b[0m\u001b[0;34m.\u001b[0m\u001b[0marange\u001b[0m\u001b[0;34m(\u001b[0m\u001b[0mlen\u001b[0m\u001b[0;34m(\u001b[0m\u001b[0mself\u001b[0m\u001b[0;34m.\u001b[0m\u001b[0mitems\u001b[0m\u001b[0;34m)\u001b[0m\u001b[0;34m)\u001b[0m\u001b[0;34m[\u001b[0m\u001b[0misnull\u001b[0m\u001b[0;34m(\u001b[0m\u001b[0mself\u001b[0m\u001b[0;34m.\u001b[0m\u001b[0mitems\u001b[0m\u001b[0;34m)\u001b[0m\u001b[0;34m]\u001b[0m\u001b[0;34m\u001b[0m\u001b[0m\n",
      "\u001b[0;32m/Users/farzanaiqbal/anaconda/lib/python3.5/site-packages/pandas/indexes/base.py\u001b[0m in \u001b[0;36mget_loc\u001b[0;34m(self, key, method, tolerance)\u001b[0m\n\u001b[1;32m   2134\u001b[0m                 \u001b[0;32mreturn\u001b[0m \u001b[0mself\u001b[0m\u001b[0;34m.\u001b[0m\u001b[0m_engine\u001b[0m\u001b[0;34m.\u001b[0m\u001b[0mget_loc\u001b[0m\u001b[0;34m(\u001b[0m\u001b[0mkey\u001b[0m\u001b[0;34m)\u001b[0m\u001b[0;34m\u001b[0m\u001b[0m\n\u001b[1;32m   2135\u001b[0m             \u001b[0;32mexcept\u001b[0m \u001b[0mKeyError\u001b[0m\u001b[0;34m:\u001b[0m\u001b[0;34m\u001b[0m\u001b[0m\n\u001b[0;32m-> 2136\u001b[0;31m                 \u001b[0;32mreturn\u001b[0m \u001b[0mself\u001b[0m\u001b[0;34m.\u001b[0m\u001b[0m_engine\u001b[0m\u001b[0;34m.\u001b[0m\u001b[0mget_loc\u001b[0m\u001b[0;34m(\u001b[0m\u001b[0mself\u001b[0m\u001b[0;34m.\u001b[0m\u001b[0m_maybe_cast_indexer\u001b[0m\u001b[0;34m(\u001b[0m\u001b[0mkey\u001b[0m\u001b[0;34m)\u001b[0m\u001b[0;34m)\u001b[0m\u001b[0;34m\u001b[0m\u001b[0m\n\u001b[0m\u001b[1;32m   2137\u001b[0m \u001b[0;34m\u001b[0m\u001b[0m\n\u001b[1;32m   2138\u001b[0m         \u001b[0mindexer\u001b[0m \u001b[0;34m=\u001b[0m \u001b[0mself\u001b[0m\u001b[0;34m.\u001b[0m\u001b[0mget_indexer\u001b[0m\u001b[0;34m(\u001b[0m\u001b[0;34m[\u001b[0m\u001b[0mkey\u001b[0m\u001b[0;34m]\u001b[0m\u001b[0;34m,\u001b[0m \u001b[0mmethod\u001b[0m\u001b[0;34m=\u001b[0m\u001b[0mmethod\u001b[0m\u001b[0;34m,\u001b[0m \u001b[0mtolerance\u001b[0m\u001b[0;34m=\u001b[0m\u001b[0mtolerance\u001b[0m\u001b[0;34m)\u001b[0m\u001b[0;34m\u001b[0m\u001b[0m\n",
      "\u001b[0;32mpandas/index.pyx\u001b[0m in \u001b[0;36mpandas.index.IndexEngine.get_loc (pandas/index.c:4433)\u001b[0;34m()\u001b[0m\n",
      "\u001b[0;32mpandas/index.pyx\u001b[0m in \u001b[0;36mpandas.index.IndexEngine.get_loc (pandas/index.c:4279)\u001b[0;34m()\u001b[0m\n",
      "\u001b[0;32mpandas/src/hashtable_class_helper.pxi\u001b[0m in \u001b[0;36mpandas.hashtable.PyObjectHashTable.get_item (pandas/hashtable.c:13742)\u001b[0;34m()\u001b[0m\n",
      "\u001b[0;32mpandas/src/hashtable_class_helper.pxi\u001b[0m in \u001b[0;36mpandas.hashtable.PyObjectHashTable.get_item (pandas/hashtable.c:13696)\u001b[0;34m()\u001b[0m\n",
      "\u001b[0;31mKeyError\u001b[0m: 'TractNum'"
     ]
    }
   ],
   "source": [
    "census_tracts['tract'] = str(census_tracts['TractNum'])"
   ]
  },
  {
   "cell_type": "code",
   "execution_count": null,
   "metadata": {
    "collapsed": true
   },
   "outputs": [],
   "source": []
  },
  {
   "cell_type": "code",
   "execution_count": null,
   "metadata": {
    "collapsed": true
   },
   "outputs": [],
   "source": []
  },
  {
   "cell_type": "code",
   "execution_count": 29,
   "metadata": {
    "collapsed": false
   },
   "outputs": [
    {
     "data": {
      "text/plain": [
       "0    California\n",
       "1    California\n",
       "2    California\n",
       "3    California\n",
       "4    California\n",
       "Name: State, dtype: object"
      ]
     },
     "execution_count": 29,
     "metadata": {},
     "output_type": "execute_result"
    }
   ],
   "source": [
    "c.head()"
   ]
  },
  {
   "cell_type": "code",
   "execution_count": null,
   "metadata": {
    "collapsed": true
   },
   "outputs": [],
   "source": []
  },
  {
   "cell_type": "code",
   "execution_count": null,
   "metadata": {
    "collapsed": true
   },
   "outputs": [],
   "source": []
  },
  {
   "cell_type": "code",
   "execution_count": null,
   "metadata": {
    "collapsed": true
   },
   "outputs": [],
   "source": []
  },
  {
   "cell_type": "code",
   "execution_count": null,
   "metadata": {
    "collapsed": true
   },
   "outputs": [],
   "source": []
  },
  {
   "cell_type": "code",
   "execution_count": null,
   "metadata": {
    "collapsed": true
   },
   "outputs": [],
   "source": []
  },
  {
   "cell_type": "code",
   "execution_count": null,
   "metadata": {
    "collapsed": true
   },
   "outputs": [],
   "source": []
  },
  {
   "cell_type": "code",
   "execution_count": null,
   "metadata": {
    "collapsed": true
   },
   "outputs": [],
   "source": []
  },
  {
   "cell_type": "code",
   "execution_count": null,
   "metadata": {
    "collapsed": true
   },
   "outputs": [],
   "source": []
  },
  {
   "cell_type": "code",
   "execution_count": 22,
   "metadata": {
    "collapsed": false
   },
   "outputs": [
    {
     "data": {
      "text/html": [
       "<div>\n",
       "<table border=\"1\" class=\"dataframe\">\n",
       "  <thead>\n",
       "    <tr style=\"text-align: right;\">\n",
       "      <th></th>\n",
       "      <th>TractNum</th>\n",
       "      <th>State</th>\n",
       "      <th>County</th>\n",
       "      <th>Urban</th>\n",
       "      <th>POP2010</th>\n",
       "      <th>OHU2010</th>\n",
       "      <th>GroupQuartersFlag</th>\n",
       "      <th>NUMGQTRS</th>\n",
       "      <th>PCTGQTRS</th>\n",
       "      <th>LILATracts_1And10</th>\n",
       "      <th>...</th>\n",
       "      <th>TractSeniors</th>\n",
       "      <th>TractWhite</th>\n",
       "      <th>TractBlack</th>\n",
       "      <th>TractAsian</th>\n",
       "      <th>TractNHOPI</th>\n",
       "      <th>TractAIAN</th>\n",
       "      <th>TractOMultir</th>\n",
       "      <th>TractHispanic</th>\n",
       "      <th>TractHUNV</th>\n",
       "      <th>TractSNAP</th>\n",
       "    </tr>\n",
       "  </thead>\n",
       "  <tbody>\n",
       "    <tr>\n",
       "      <th>0</th>\n",
       "      <td>6001400100</td>\n",
       "      <td>California</td>\n",
       "      <td>Alameda</td>\n",
       "      <td>1</td>\n",
       "      <td>2937</td>\n",
       "      <td>1314</td>\n",
       "      <td>0</td>\n",
       "      <td>2</td>\n",
       "      <td>0.000681</td>\n",
       "      <td>0</td>\n",
       "      <td>...</td>\n",
       "      <td>634</td>\n",
       "      <td>2161</td>\n",
       "      <td>142</td>\n",
       "      <td>456</td>\n",
       "      <td>9</td>\n",
       "      <td>4</td>\n",
       "      <td>165</td>\n",
       "      <td>117</td>\n",
       "      <td>0</td>\n",
       "      <td>0</td>\n",
       "    </tr>\n",
       "    <tr>\n",
       "      <th>1</th>\n",
       "      <td>6001400200</td>\n",
       "      <td>California</td>\n",
       "      <td>Alameda</td>\n",
       "      <td>1</td>\n",
       "      <td>1974</td>\n",
       "      <td>856</td>\n",
       "      <td>0</td>\n",
       "      <td>70</td>\n",
       "      <td>0.035461</td>\n",
       "      <td>0</td>\n",
       "      <td>...</td>\n",
       "      <td>323</td>\n",
       "      <td>1659</td>\n",
       "      <td>33</td>\n",
       "      <td>147</td>\n",
       "      <td>0</td>\n",
       "      <td>4</td>\n",
       "      <td>131</td>\n",
       "      <td>151</td>\n",
       "      <td>57</td>\n",
       "      <td>6</td>\n",
       "    </tr>\n",
       "    <tr>\n",
       "      <th>2</th>\n",
       "      <td>6001400300</td>\n",
       "      <td>California</td>\n",
       "      <td>Alameda</td>\n",
       "      <td>1</td>\n",
       "      <td>4865</td>\n",
       "      <td>2418</td>\n",
       "      <td>0</td>\n",
       "      <td>40</td>\n",
       "      <td>0.008222</td>\n",
       "      <td>0</td>\n",
       "      <td>...</td>\n",
       "      <td>493</td>\n",
       "      <td>3468</td>\n",
       "      <td>518</td>\n",
       "      <td>423</td>\n",
       "      <td>5</td>\n",
       "      <td>17</td>\n",
       "      <td>434</td>\n",
       "      <td>399</td>\n",
       "      <td>354</td>\n",
       "      <td>34</td>\n",
       "    </tr>\n",
       "    <tr>\n",
       "      <th>3</th>\n",
       "      <td>6001400400</td>\n",
       "      <td>California</td>\n",
       "      <td>Alameda</td>\n",
       "      <td>1</td>\n",
       "      <td>3703</td>\n",
       "      <td>1779</td>\n",
       "      <td>0</td>\n",
       "      <td>33</td>\n",
       "      <td>0.008912</td>\n",
       "      <td>0</td>\n",
       "      <td>...</td>\n",
       "      <td>353</td>\n",
       "      <td>2628</td>\n",
       "      <td>456</td>\n",
       "      <td>278</td>\n",
       "      <td>6</td>\n",
       "      <td>14</td>\n",
       "      <td>321</td>\n",
       "      <td>332</td>\n",
       "      <td>159</td>\n",
       "      <td>9</td>\n",
       "    </tr>\n",
       "    <tr>\n",
       "      <th>4</th>\n",
       "      <td>6001400500</td>\n",
       "      <td>California</td>\n",
       "      <td>Alameda</td>\n",
       "      <td>1</td>\n",
       "      <td>3517</td>\n",
       "      <td>1578</td>\n",
       "      <td>0</td>\n",
       "      <td>126</td>\n",
       "      <td>0.035826</td>\n",
       "      <td>0</td>\n",
       "      <td>...</td>\n",
       "      <td>314</td>\n",
       "      <td>1905</td>\n",
       "      <td>955</td>\n",
       "      <td>209</td>\n",
       "      <td>5</td>\n",
       "      <td>27</td>\n",
       "      <td>416</td>\n",
       "      <td>340</td>\n",
       "      <td>258</td>\n",
       "      <td>72</td>\n",
       "    </tr>\n",
       "  </tbody>\n",
       "</table>\n",
       "<p>5 rows × 147 columns</p>\n",
       "</div>"
      ],
      "text/plain": [
       "     TractNum       State   County  Urban  POP2010  OHU2010  \\\n",
       "0  6001400100  California  Alameda      1     2937     1314   \n",
       "1  6001400200  California  Alameda      1     1974      856   \n",
       "2  6001400300  California  Alameda      1     4865     2418   \n",
       "3  6001400400  California  Alameda      1     3703     1779   \n",
       "4  6001400500  California  Alameda      1     3517     1578   \n",
       "\n",
       "   GroupQuartersFlag  NUMGQTRS  PCTGQTRS  LILATracts_1And10    ...      \\\n",
       "0                  0         2  0.000681                  0    ...       \n",
       "1                  0        70  0.035461                  0    ...       \n",
       "2                  0        40  0.008222                  0    ...       \n",
       "3                  0        33  0.008912                  0    ...       \n",
       "4                  0       126  0.035826                  0    ...       \n",
       "\n",
       "   TractSeniors  TractWhite  TractBlack  TractAsian  TractNHOPI  TractAIAN  \\\n",
       "0           634        2161         142         456           9          4   \n",
       "1           323        1659          33         147           0          4   \n",
       "2           493        3468         518         423           5         17   \n",
       "3           353        2628         456         278           6         14   \n",
       "4           314        1905         955         209           5         27   \n",
       "\n",
       "   TractOMultir  TractHispanic  TractHUNV  TractSNAP  \n",
       "0           165            117          0          0  \n",
       "1           131            151         57          6  \n",
       "2           434            399        354         34  \n",
       "3           321            332        159          9  \n",
       "4           416            340        258         72  \n",
       "\n",
       "[5 rows x 147 columns]"
      ]
     },
     "execution_count": 22,
     "metadata": {},
     "output_type": "execute_result"
    }
   ],
   "source": [
    "census_tracts.head()"
   ]
  },
  {
   "cell_type": "code",
   "execution_count": null,
   "metadata": {
    "collapsed": true
   },
   "outputs": [],
   "source": []
  },
  {
   "cell_type": "code",
   "execution_count": null,
   "metadata": {
    "collapsed": true
   },
   "outputs": [],
   "source": []
  },
  {
   "cell_type": "code",
   "execution_count": null,
   "metadata": {
    "collapsed": true
   },
   "outputs": [],
   "source": []
  },
  {
   "cell_type": "code",
   "execution_count": null,
   "metadata": {
    "collapsed": true
   },
   "outputs": [],
   "source": []
  },
  {
   "cell_type": "code",
   "execution_count": null,
   "metadata": {
    "collapsed": true
   },
   "outputs": [],
   "source": []
  },
  {
   "cell_type": "code",
   "execution_count": null,
   "metadata": {
    "collapsed": true
   },
   "outputs": [],
   "source": []
  },
  {
   "cell_type": "code",
   "execution_count": null,
   "metadata": {
    "collapsed": true
   },
   "outputs": [],
   "source": []
  },
  {
   "cell_type": "code",
   "execution_count": null,
   "metadata": {
    "collapsed": true
   },
   "outputs": [],
   "source": []
  },
  {
   "cell_type": "code",
   "execution_count": null,
   "metadata": {
    "collapsed": true
   },
   "outputs": [],
   "source": []
  },
  {
   "cell_type": "code",
   "execution_count": null,
   "metadata": {
    "collapsed": true
   },
   "outputs": [],
   "source": []
  },
  {
   "cell_type": "code",
   "execution_count": null,
   "metadata": {
    "collapsed": true
   },
   "outputs": [],
   "source": []
  },
  {
   "cell_type": "code",
   "execution_count": null,
   "metadata": {
    "collapsed": true
   },
   "outputs": [],
   "source": []
  },
  {
   "cell_type": "code",
   "execution_count": null,
   "metadata": {
    "collapsed": true
   },
   "outputs": [],
   "source": []
  },
  {
   "cell_type": "code",
   "execution_count": null,
   "metadata": {
    "collapsed": true
   },
   "outputs": [],
   "source": [
    "census_tracts"
   ]
  },
  {
   "cell_type": "code",
   "execution_count": 19,
   "metadata": {
    "collapsed": false
   },
   "outputs": [],
   "source": [
    "#prioritized = \n",
    "a  = data[[\"Urban\", \"PCTGQTRS\", \"HUNVFlag\", \"Percent; OCCUPANCY STATUS 0 Total housing units\", \"Total; Estimate; Some college no degree\", \"Percent; TENURE 0 Occupied housing units 0 Owner occupied 0 Owned free and clear\", \"Unemployment rate; Estimate; EDUCATIONAL ATTAINMENT 0 Some college or associate's degree\" ]]\n",
    "#data[[\"Urban\", \"Unemployment rate; Estimate; EDUCATIONAL ATTAINMENT 0 Some college or associate's degree\"]].head()"
   ]
  },
  {
   "cell_type": "code",
   "execution_count": 42,
   "metadata": {
    "collapsed": false
   },
   "outputs": [
    {
     "data": {
      "text/html": [
       "<div>\n",
       "<table border=\"1\" class=\"dataframe\">\n",
       "  <thead>\n",
       "    <tr style=\"text-align: right;\">\n",
       "      <th></th>\n",
       "      <th>Urban</th>\n",
       "      <th>PCTGQTRS</th>\n",
       "      <th>HUNVFlag</th>\n",
       "      <th>Percent; OCCUPANCY STATUS 0 Total housing units</th>\n",
       "      <th>Total; Estimate; Some college no degree</th>\n",
       "      <th>Percent; TENURE 0 Occupied housing units 0 Owner occupied 0 Owned free and clear</th>\n",
       "      <th>Unemployment rate; Estimate; EDUCATIONAL ATTAINMENT 0 Some college or associate's degree</th>\n",
       "      <th>TractNum</th>\n",
       "    </tr>\n",
       "  </thead>\n",
       "  <tbody>\n",
       "    <tr>\n",
       "      <th>0</th>\n",
       "      <td>1</td>\n",
       "      <td>0.000681</td>\n",
       "      <td>0</td>\n",
       "      <td>100</td>\n",
       "      <td>9.3</td>\n",
       "      <td>23.7</td>\n",
       "      <td>0.0</td>\n",
       "      <td>6001400100</td>\n",
       "    </tr>\n",
       "    <tr>\n",
       "      <th>1</th>\n",
       "      <td>1</td>\n",
       "      <td>0.035461</td>\n",
       "      <td>0</td>\n",
       "      <td>100</td>\n",
       "      <td>6.8</td>\n",
       "      <td>15.5</td>\n",
       "      <td>0.0</td>\n",
       "      <td>6001400200</td>\n",
       "    </tr>\n",
       "    <tr>\n",
       "      <th>2</th>\n",
       "      <td>1</td>\n",
       "      <td>0.008222</td>\n",
       "      <td>0</td>\n",
       "      <td>100</td>\n",
       "      <td>10.9</td>\n",
       "      <td>10.4</td>\n",
       "      <td>7.7</td>\n",
       "      <td>6001400300</td>\n",
       "    </tr>\n",
       "    <tr>\n",
       "      <th>3</th>\n",
       "      <td>1</td>\n",
       "      <td>0.008912</td>\n",
       "      <td>0</td>\n",
       "      <td>100</td>\n",
       "      <td>11.4</td>\n",
       "      <td>9.8</td>\n",
       "      <td>0.0</td>\n",
       "      <td>6001400400</td>\n",
       "    </tr>\n",
       "    <tr>\n",
       "      <th>4</th>\n",
       "      <td>1</td>\n",
       "      <td>0.035826</td>\n",
       "      <td>0</td>\n",
       "      <td>100</td>\n",
       "      <td>20.4</td>\n",
       "      <td>7.0</td>\n",
       "      <td>16.1</td>\n",
       "      <td>6001400500</td>\n",
       "    </tr>\n",
       "  </tbody>\n",
       "</table>\n",
       "</div>"
      ],
      "text/plain": [
       "   Urban  PCTGQTRS  HUNVFlag  Percent; OCCUPANCY STATUS 0 Total housing units  \\\n",
       "0      1  0.000681         0                                              100   \n",
       "1      1  0.035461         0                                              100   \n",
       "2      1  0.008222         0                                              100   \n",
       "3      1  0.008912         0                                              100   \n",
       "4      1  0.035826         0                                              100   \n",
       "\n",
       "   Total; Estimate; Some college no degree  \\\n",
       "0                                      9.3   \n",
       "1                                      6.8   \n",
       "2                                     10.9   \n",
       "3                                     11.4   \n",
       "4                                     20.4   \n",
       "\n",
       "   Percent; TENURE 0 Occupied housing units 0 Owner occupied 0 Owned free and clear  \\\n",
       "0                                               23.7                                  \n",
       "1                                               15.5                                  \n",
       "2                                               10.4                                  \n",
       "3                                                9.8                                  \n",
       "4                                                7.0                                  \n",
       "\n",
       "   Unemployment rate; Estimate; EDUCATIONAL ATTAINMENT 0 Some college or associate's degree  \\\n",
       "0                                                0.0                                          \n",
       "1                                                0.0                                          \n",
       "2                                                7.7                                          \n",
       "3                                                0.0                                          \n",
       "4                                               16.1                                          \n",
       "\n",
       "     TractNum  \n",
       "0  6001400100  \n",
       "1  6001400200  \n",
       "2  6001400300  \n",
       "3  6001400400  \n",
       "4  6001400500  "
      ]
     },
     "execution_count": 42,
     "metadata": {},
     "output_type": "execute_result"
    }
   ],
   "source": [
    "d = a.join(census_tracts)\n"
   ]
  },
  {
   "cell_type": "code",
   "execution_count": 115,
   "metadata": {
    "collapsed": true
   },
   "outputs": [],
   "source": [
    "b = d#head()"
   ]
  },
  {
   "cell_type": "code",
   "execution_count": null,
   "metadata": {
    "collapsed": true
   },
   "outputs": [],
   "source": []
  },
  {
   "cell_type": "code",
   "execution_count": 116,
   "metadata": {
    "collapsed": false
   },
   "outputs": [],
   "source": [
    "b.rename(columns={'  TractNum':'TractNum'}, inplace=True)\n"
   ]
  },
  {
   "cell_type": "code",
   "execution_count": null,
   "metadata": {
    "collapsed": true
   },
   "outputs": [],
   "source": []
  },
  {
   "cell_type": "code",
   "execution_count": 66,
   "metadata": {
    "collapsed": false
   },
   "outputs": [
    {
     "data": {
      "text/plain": [
       "0    6001400100\n",
       "1    6001400200\n",
       "2    6001400300\n",
       "3    6001400400\n",
       "4    6001400500\n",
       "Name: TractNum, dtype: int64"
      ]
     },
     "execution_count": 66,
     "metadata": {},
     "output_type": "execute_result"
    }
   ],
   "source": [
    "b['TractNum']"
   ]
  },
  {
   "cell_type": "code",
   "execution_count": null,
   "metadata": {
    "collapsed": true
   },
   "outputs": [],
   "source": []
  },
  {
   "cell_type": "code",
   "execution_count": null,
   "metadata": {
    "collapsed": true
   },
   "outputs": [],
   "source": []
  },
  {
   "cell_type": "code",
   "execution_count": null,
   "metadata": {
    "collapsed": true
   },
   "outputs": [],
   "source": []
  },
  {
   "cell_type": "code",
   "execution_count": null,
   "metadata": {
    "collapsed": true
   },
   "outputs": [],
   "source": []
  },
  {
   "cell_type": "code",
   "execution_count": null,
   "metadata": {
    "collapsed": true
   },
   "outputs": [],
   "source": []
  },
  {
   "cell_type": "code",
   "execution_count": null,
   "metadata": {
    "collapsed": true
   },
   "outputs": [],
   "source": []
  },
  {
   "cell_type": "code",
   "execution_count": null,
   "metadata": {
    "collapsed": true
   },
   "outputs": [],
   "source": []
  },
  {
   "cell_type": "code",
   "execution_count": null,
   "metadata": {
    "collapsed": true
   },
   "outputs": [],
   "source": []
  },
  {
   "cell_type": "code",
   "execution_count": null,
   "metadata": {
    "collapsed": true
   },
   "outputs": [],
   "source": []
  },
  {
   "cell_type": "code",
   "execution_count": null,
   "metadata": {
    "collapsed": true
   },
   "outputs": [],
   "source": []
  },
  {
   "cell_type": "code",
   "execution_count": 70,
   "metadata": {
    "collapsed": false
   },
   "outputs": [
    {
     "data": {
      "text/plain": [
       "0    6001400100\n",
       "1    6001400200\n",
       "2    6001400300\n",
       "3    6001400400\n",
       "4    6001400500\n",
       "Name: TractNum, dtype: int64"
      ]
     },
     "execution_count": 70,
     "metadata": {},
     "output_type": "execute_result"
    }
   ],
   "source": [
    "b['TractNum']"
   ]
  },
  {
   "cell_type": "code",
   "execution_count": null,
   "metadata": {
    "collapsed": true
   },
   "outputs": [],
   "source": []
  },
  {
   "cell_type": "code",
   "execution_count": 117,
   "metadata": {
    "collapsed": false
   },
   "outputs": [],
   "source": [
    "e = b.T#set_index('TractNum').to_dict()"
   ]
  },
  {
   "cell_type": "code",
   "execution_count": null,
   "metadata": {
    "collapsed": true
   },
   "outputs": [],
   "source": []
  },
  {
   "cell_type": "code",
   "execution_count": 79,
   "metadata": {
    "collapsed": false
   },
   "outputs": [
    {
     "data": {
      "text/html": [
       "<div>\n",
       "<table border=\"1\" class=\"dataframe\">\n",
       "  <thead>\n",
       "    <tr style=\"text-align: right;\">\n",
       "      <th></th>\n",
       "      <th>0</th>\n",
       "      <th>1</th>\n",
       "      <th>2</th>\n",
       "      <th>3</th>\n",
       "      <th>4</th>\n",
       "    </tr>\n",
       "  </thead>\n",
       "  <tbody>\n",
       "    <tr>\n",
       "      <th>Urban</th>\n",
       "      <td>1.000000e+00</td>\n",
       "      <td>1.000000e+00</td>\n",
       "      <td>1.000000e+00</td>\n",
       "      <td>1.000000e+00</td>\n",
       "      <td>1.000000e+00</td>\n",
       "    </tr>\n",
       "    <tr>\n",
       "      <th>PCTGQTRS</th>\n",
       "      <td>6.810000e-04</td>\n",
       "      <td>3.546100e-02</td>\n",
       "      <td>8.222000e-03</td>\n",
       "      <td>8.911700e-03</td>\n",
       "      <td>3.582600e-02</td>\n",
       "    </tr>\n",
       "    <tr>\n",
       "      <th>HUNVFlag</th>\n",
       "      <td>0.000000e+00</td>\n",
       "      <td>0.000000e+00</td>\n",
       "      <td>0.000000e+00</td>\n",
       "      <td>0.000000e+00</td>\n",
       "      <td>0.000000e+00</td>\n",
       "    </tr>\n",
       "    <tr>\n",
       "      <th>Percent; OCCUPANCY STATUS 0 Total housing units</th>\n",
       "      <td>1.000000e+02</td>\n",
       "      <td>1.000000e+02</td>\n",
       "      <td>1.000000e+02</td>\n",
       "      <td>1.000000e+02</td>\n",
       "      <td>1.000000e+02</td>\n",
       "    </tr>\n",
       "    <tr>\n",
       "      <th>Total; Estimate; Some college no degree</th>\n",
       "      <td>9.300000e+00</td>\n",
       "      <td>6.800000e+00</td>\n",
       "      <td>1.090000e+01</td>\n",
       "      <td>1.140000e+01</td>\n",
       "      <td>2.040000e+01</td>\n",
       "    </tr>\n",
       "    <tr>\n",
       "      <th>Percent; TENURE 0 Occupied housing units 0 Owner occupied 0 Owned free and clear</th>\n",
       "      <td>2.370000e+01</td>\n",
       "      <td>1.550000e+01</td>\n",
       "      <td>1.040000e+01</td>\n",
       "      <td>9.800000e+00</td>\n",
       "      <td>7.000000e+00</td>\n",
       "    </tr>\n",
       "    <tr>\n",
       "      <th>Unemployment rate; Estimate; EDUCATIONAL ATTAINMENT 0 Some college or associate's degree</th>\n",
       "      <td>0.000000e+00</td>\n",
       "      <td>0.000000e+00</td>\n",
       "      <td>7.700000e+00</td>\n",
       "      <td>0.000000e+00</td>\n",
       "      <td>1.610000e+01</td>\n",
       "    </tr>\n",
       "    <tr>\n",
       "      <th>TractNum</th>\n",
       "      <td>6.001400e+09</td>\n",
       "      <td>6.001400e+09</td>\n",
       "      <td>6.001400e+09</td>\n",
       "      <td>6.001400e+09</td>\n",
       "      <td>6.001400e+09</td>\n",
       "    </tr>\n",
       "  </tbody>\n",
       "</table>\n",
       "</div>"
      ],
      "text/plain": [
       "                                                               0  \\\n",
       "Urban                                               1.000000e+00   \n",
       "PCTGQTRS                                            6.810000e-04   \n",
       "HUNVFlag                                            0.000000e+00   \n",
       "Percent; OCCUPANCY STATUS 0 Total housing units     1.000000e+02   \n",
       "Total; Estimate; Some college no degree             9.300000e+00   \n",
       "Percent; TENURE 0 Occupied housing units 0 Owne...  2.370000e+01   \n",
       "Unemployment rate; Estimate; EDUCATIONAL ATTAIN...  0.000000e+00   \n",
       "TractNum                                            6.001400e+09   \n",
       "\n",
       "                                                               1  \\\n",
       "Urban                                               1.000000e+00   \n",
       "PCTGQTRS                                            3.546100e-02   \n",
       "HUNVFlag                                            0.000000e+00   \n",
       "Percent; OCCUPANCY STATUS 0 Total housing units     1.000000e+02   \n",
       "Total; Estimate; Some college no degree             6.800000e+00   \n",
       "Percent; TENURE 0 Occupied housing units 0 Owne...  1.550000e+01   \n",
       "Unemployment rate; Estimate; EDUCATIONAL ATTAIN...  0.000000e+00   \n",
       "TractNum                                            6.001400e+09   \n",
       "\n",
       "                                                               2  \\\n",
       "Urban                                               1.000000e+00   \n",
       "PCTGQTRS                                            8.222000e-03   \n",
       "HUNVFlag                                            0.000000e+00   \n",
       "Percent; OCCUPANCY STATUS 0 Total housing units     1.000000e+02   \n",
       "Total; Estimate; Some college no degree             1.090000e+01   \n",
       "Percent; TENURE 0 Occupied housing units 0 Owne...  1.040000e+01   \n",
       "Unemployment rate; Estimate; EDUCATIONAL ATTAIN...  7.700000e+00   \n",
       "TractNum                                            6.001400e+09   \n",
       "\n",
       "                                                               3             4  \n",
       "Urban                                               1.000000e+00  1.000000e+00  \n",
       "PCTGQTRS                                            8.911700e-03  3.582600e-02  \n",
       "HUNVFlag                                            0.000000e+00  0.000000e+00  \n",
       "Percent; OCCUPANCY STATUS 0 Total housing units     1.000000e+02  1.000000e+02  \n",
       "Total; Estimate; Some college no degree             1.140000e+01  2.040000e+01  \n",
       "Percent; TENURE 0 Occupied housing units 0 Owne...  9.800000e+00  7.000000e+00  \n",
       "Unemployment rate; Estimate; EDUCATIONAL ATTAIN...  0.000000e+00  1.610000e+01  \n",
       "TractNum                                            6.001400e+09  6.001400e+09  "
      ]
     },
     "execution_count": 79,
     "metadata": {},
     "output_type": "execute_result"
    }
   ],
   "source": [
    "#e"
   ]
  },
  {
   "cell_type": "code",
   "execution_count": null,
   "metadata": {
    "collapsed": true
   },
   "outputs": [],
   "source": []
  },
  {
   "cell_type": "code",
   "execution_count": 118,
   "metadata": {
    "collapsed": false
   },
   "outputs": [],
   "source": [
    "g =e.to_dict()"
   ]
  },
  {
   "cell_type": "code",
   "execution_count": null,
   "metadata": {
    "collapsed": true
   },
   "outputs": [],
   "source": []
  },
  {
   "cell_type": "code",
   "execution_count": 82,
   "metadata": {
    "collapsed": false
   },
   "outputs": [
    {
     "data": {
      "text/plain": [
       "{0: {'HUNVFlag': 0.0,\n",
       "  'PCTGQTRS': 0.00068099999999999996,\n",
       "  'Percent; OCCUPANCY STATUS 0 Total housing units': 100.0,\n",
       "  'Percent; TENURE 0 Occupied housing units 0 Owner occupied 0 Owned free and clear': 23.699999999999999,\n",
       "  'Total; Estimate; Some college no degree': 9.3000000000000007,\n",
       "  'TractNum': 6001400100.0,\n",
       "  \"Unemployment rate; Estimate; EDUCATIONAL ATTAINMENT 0 Some college or associate's degree\": 0.0,\n",
       "  'Urban': 1.0},\n",
       " 1: {'HUNVFlag': 0.0,\n",
       "  'PCTGQTRS': 0.035460999999999999,\n",
       "  'Percent; OCCUPANCY STATUS 0 Total housing units': 100.0,\n",
       "  'Percent; TENURE 0 Occupied housing units 0 Owner occupied 0 Owned free and clear': 15.5,\n",
       "  'Total; Estimate; Some college no degree': 6.7999999999999998,\n",
       "  'TractNum': 6001400200.0,\n",
       "  \"Unemployment rate; Estimate; EDUCATIONAL ATTAINMENT 0 Some college or associate's degree\": 0.0,\n",
       "  'Urban': 1.0},\n",
       " 2: {'HUNVFlag': 0.0,\n",
       "  'PCTGQTRS': 0.0082220000000000001,\n",
       "  'Percent; OCCUPANCY STATUS 0 Total housing units': 100.0,\n",
       "  'Percent; TENURE 0 Occupied housing units 0 Owner occupied 0 Owned free and clear': 10.4,\n",
       "  'Total; Estimate; Some college no degree': 10.9,\n",
       "  'TractNum': 6001400300.0,\n",
       "  \"Unemployment rate; Estimate; EDUCATIONAL ATTAINMENT 0 Some college or associate's degree\": 7.7000000000000002,\n",
       "  'Urban': 1.0},\n",
       " 3: {'HUNVFlag': 0.0,\n",
       "  'PCTGQTRS': 0.0089116999999999998,\n",
       "  'Percent; OCCUPANCY STATUS 0 Total housing units': 100.0,\n",
       "  'Percent; TENURE 0 Occupied housing units 0 Owner occupied 0 Owned free and clear': 9.8000000000000007,\n",
       "  'Total; Estimate; Some college no degree': 11.4,\n",
       "  'TractNum': 6001400400.0,\n",
       "  \"Unemployment rate; Estimate; EDUCATIONAL ATTAINMENT 0 Some college or associate's degree\": 0.0,\n",
       "  'Urban': 1.0},\n",
       " 4: {'HUNVFlag': 0.0,\n",
       "  'PCTGQTRS': 0.035825999999999997,\n",
       "  'Percent; OCCUPANCY STATUS 0 Total housing units': 100.0,\n",
       "  'Percent; TENURE 0 Occupied housing units 0 Owner occupied 0 Owned free and clear': 7.0,\n",
       "  'Total; Estimate; Some college no degree': 20.399999999999999,\n",
       "  'TractNum': 6001400500.0,\n",
       "  \"Unemployment rate; Estimate; EDUCATIONAL ATTAINMENT 0 Some college or associate's degree\": 16.100000000000001,\n",
       "  'Urban': 1.0}}"
      ]
     },
     "execution_count": 82,
     "metadata": {},
     "output_type": "execute_result"
    }
   ],
   "source": [
    "g"
   ]
  },
  {
   "cell_type": "code",
   "execution_count": 119,
   "metadata": {
    "collapsed": false
   },
   "outputs": [],
   "source": [
    "new_dict = {}\n",
    "for k, v in g.items():\n",
    "    new_dict[str(int(v['TractNum']))] = v\n"
   ]
  },
  {
   "cell_type": "code",
   "execution_count": 121,
   "metadata": {
    "collapsed": false
   },
   "outputs": [
    {
     "data": {
      "text/plain": [
       "{'HUNVFlag': 0.0,\n",
       " 'PCTGQTRS': 0.00068099999999999996,\n",
       " 'Percent; OCCUPANCY STATUS 0 Total housing units': 100.0,\n",
       " 'Percent; TENURE 0 Occupied housing units 0 Owner occupied 0 Owned free and clear': 23.699999999999999,\n",
       " 'Total; Estimate; Some college no degree': 9.3000000000000007,\n",
       " 'TractNum': 6001400100.0,\n",
       " \"Unemployment rate; Estimate; EDUCATIONAL ATTAINMENT 0 Some college or associate's degree\": 0.0,\n",
       " 'Urban': 1.0}"
      ]
     },
     "execution_count": 121,
     "metadata": {},
     "output_type": "execute_result"
    }
   ],
   "source": [
    "new_dict['6001400100']"
   ]
  },
  {
   "cell_type": "code",
   "execution_count": 122,
   "metadata": {
    "collapsed": false
   },
   "outputs": [
    {
     "data": {
      "text/plain": [
       "{'6013329000': {'HUNVFlag': 0.0,\n",
       "  'PCTGQTRS': 0.0069742000000000007,\n",
       "  'Percent; OCCUPANCY STATUS 0 Total housing units': 100.0,\n",
       "  'Percent; TENURE 0 Occupied housing units 0 Owner occupied 0 Owned free and clear': 12.800000000000001,\n",
       "  'Total; Estimate; Some college no degree': 27.199999999999999,\n",
       "  'TractNum': 6013329000.0,\n",
       "  \"Unemployment rate; Estimate; EDUCATIONAL ATTAINMENT 0 Some college or associate's degree\": 6.5,\n",
       "  'Urban': 1.0},\n",
       " '6065041904': {'HUNVFlag': 0.0,\n",
       "  'PCTGQTRS': 0.0043877999999999999,\n",
       "  'Percent; OCCUPANCY STATUS 0 Total housing units': 100.0,\n",
       "  'Percent; TENURE 0 Occupied housing units 0 Owner occupied 0 Owned free and clear': 18.0,\n",
       "  'Total; Estimate; Some college no degree': 21.600000000000001,\n",
       "  'TractNum': 6065041904.0,\n",
       "  \"Unemployment rate; Estimate; EDUCATIONAL ATTAINMENT 0 Some college or associate's degree\": 21.300000000000001,\n",
       "  'Urban': 1.0}}"
      ]
     },
     "execution_count": 122,
     "metadata": {},
     "output_type": "execute_result"
    }
   ],
   "source": [
    "dict(list(new_dict.items())[0:2])"
   ]
  },
  {
   "cell_type": "code",
   "execution_count": null,
   "metadata": {
    "collapsed": true
   },
   "outputs": [],
   "source": []
  },
  {
   "cell_type": "code",
   "execution_count": null,
   "metadata": {
    "collapsed": true
   },
   "outputs": [],
   "source": []
  },
  {
   "cell_type": "code",
   "execution_count": null,
   "metadata": {
    "collapsed": true
   },
   "outputs": [],
   "source": []
  },
  {
   "cell_type": "code",
   "execution_count": null,
   "metadata": {
    "collapsed": true
   },
   "outputs": [],
   "source": []
  },
  {
   "cell_type": "code",
   "execution_count": null,
   "metadata": {
    "collapsed": true
   },
   "outputs": [],
   "source": []
  },
  {
   "cell_type": "code",
   "execution_count": 114,
   "metadata": {
    "collapsed": false
   },
   "outputs": [
    {
     "data": {
      "text/plain": [
       "{'6001400100': {'HUNVFlag': 0.0,\n",
       "  'PCTGQTRS': 0.00068099999999999996,\n",
       "  'Percent; OCCUPANCY STATUS 0 Total housing units': 100.0,\n",
       "  'Percent; TENURE 0 Occupied housing units 0 Owner occupied 0 Owned free and clear': 23.699999999999999,\n",
       "  'Total; Estimate; Some college no degree': 9.3000000000000007,\n",
       "  'TractNum': 6001400100.0,\n",
       "  \"Unemployment rate; Estimate; EDUCATIONAL ATTAINMENT 0 Some college or associate's degree\": 0.0,\n",
       "  'Urban': 1.0},\n",
       " '6001400200': {'HUNVFlag': 0.0,\n",
       "  'PCTGQTRS': 0.035460999999999999,\n",
       "  'Percent; OCCUPANCY STATUS 0 Total housing units': 100.0,\n",
       "  'Percent; TENURE 0 Occupied housing units 0 Owner occupied 0 Owned free and clear': 15.5,\n",
       "  'Total; Estimate; Some college no degree': 6.7999999999999998,\n",
       "  'TractNum': 6001400200.0,\n",
       "  \"Unemployment rate; Estimate; EDUCATIONAL ATTAINMENT 0 Some college or associate's degree\": 0.0,\n",
       "  'Urban': 1.0},\n",
       " '6001400300': {'HUNVFlag': 0.0,\n",
       "  'PCTGQTRS': 0.0082220000000000001,\n",
       "  'Percent; OCCUPANCY STATUS 0 Total housing units': 100.0,\n",
       "  'Percent; TENURE 0 Occupied housing units 0 Owner occupied 0 Owned free and clear': 10.4,\n",
       "  'Total; Estimate; Some college no degree': 10.9,\n",
       "  'TractNum': 6001400300.0,\n",
       "  \"Unemployment rate; Estimate; EDUCATIONAL ATTAINMENT 0 Some college or associate's degree\": 7.7000000000000002,\n",
       "  'Urban': 1.0},\n",
       " '6001400400': {'HUNVFlag': 0.0,\n",
       "  'PCTGQTRS': 0.0089116999999999998,\n",
       "  'Percent; OCCUPANCY STATUS 0 Total housing units': 100.0,\n",
       "  'Percent; TENURE 0 Occupied housing units 0 Owner occupied 0 Owned free and clear': 9.8000000000000007,\n",
       "  'Total; Estimate; Some college no degree': 11.4,\n",
       "  'TractNum': 6001400400.0,\n",
       "  \"Unemployment rate; Estimate; EDUCATIONAL ATTAINMENT 0 Some college or associate's degree\": 0.0,\n",
       "  'Urban': 1.0},\n",
       " '6001400500': {'HUNVFlag': 0.0,\n",
       "  'PCTGQTRS': 0.035825999999999997,\n",
       "  'Percent; OCCUPANCY STATUS 0 Total housing units': 100.0,\n",
       "  'Percent; TENURE 0 Occupied housing units 0 Owner occupied 0 Owned free and clear': 7.0,\n",
       "  'Total; Estimate; Some college no degree': 20.399999999999999,\n",
       "  'TractNum': 6001400500.0,\n",
       "  \"Unemployment rate; Estimate; EDUCATIONAL ATTAINMENT 0 Some college or associate's degree\": 16.100000000000001,\n",
       "  'Urban': 1.0}}"
      ]
     },
     "execution_count": 114,
     "metadata": {},
     "output_type": "execute_result"
    }
   ],
   "source": [
    "new_dict"
   ]
  },
  {
   "cell_type": "code",
   "execution_count": null,
   "metadata": {
    "collapsed": true
   },
   "outputs": [],
   "source": []
  },
  {
   "cell_type": "code",
   "execution_count": null,
   "metadata": {
    "collapsed": true
   },
   "outputs": [],
   "source": []
  },
  {
   "cell_type": "code",
   "execution_count": null,
   "metadata": {
    "collapsed": true
   },
   "outputs": [],
   "source": []
  },
  {
   "cell_type": "code",
   "execution_count": null,
   "metadata": {
    "collapsed": true
   },
   "outputs": [],
   "source": []
  },
  {
   "cell_type": "code",
   "execution_count": null,
   "metadata": {
    "collapsed": true
   },
   "outputs": [],
   "source": []
  },
  {
   "cell_type": "code",
   "execution_count": null,
   "metadata": {
    "collapsed": true
   },
   "outputs": [],
   "source": []
  },
  {
   "cell_type": "code",
   "execution_count": 105,
   "metadata": {
    "collapsed": false
   },
   "outputs": [
    {
     "data": {
      "text/plain": [
       "{0: {'HUNVFlag': 0.0,\n",
       "  'PCTGQTRS': 0.00068099999999999996,\n",
       "  'Percent; OCCUPANCY STATUS 0 Total housing units': 100.0,\n",
       "  'Percent; TENURE 0 Occupied housing units 0 Owner occupied 0 Owned free and clear': 23.699999999999999,\n",
       "  'Total; Estimate; Some college no degree': 9.3000000000000007,\n",
       "  'TractNum': 6001400100.0,\n",
       "  \"Unemployment rate; Estimate; EDUCATIONAL ATTAINMENT 0 Some college or associate's degree\": 0.0,\n",
       "  'Urban': 1.0},\n",
       " 1: {'HUNVFlag': 0.0,\n",
       "  'PCTGQTRS': 0.035460999999999999,\n",
       "  'Percent; OCCUPANCY STATUS 0 Total housing units': 100.0,\n",
       "  'Percent; TENURE 0 Occupied housing units 0 Owner occupied 0 Owned free and clear': 15.5,\n",
       "  'Total; Estimate; Some college no degree': 6.7999999999999998,\n",
       "  'TractNum': 6001400200.0,\n",
       "  \"Unemployment rate; Estimate; EDUCATIONAL ATTAINMENT 0 Some college or associate's degree\": 0.0,\n",
       "  'Urban': 1.0},\n",
       " 2: {'HUNVFlag': 0.0,\n",
       "  'PCTGQTRS': 0.0082220000000000001,\n",
       "  'Percent; OCCUPANCY STATUS 0 Total housing units': 100.0,\n",
       "  'Percent; TENURE 0 Occupied housing units 0 Owner occupied 0 Owned free and clear': 10.4,\n",
       "  'Total; Estimate; Some college no degree': 10.9,\n",
       "  'TractNum': 6001400300.0,\n",
       "  \"Unemployment rate; Estimate; EDUCATIONAL ATTAINMENT 0 Some college or associate's degree\": 7.7000000000000002,\n",
       "  'Urban': 1.0},\n",
       " 3: {'HUNVFlag': 0.0,\n",
       "  'PCTGQTRS': 0.0089116999999999998,\n",
       "  'Percent; OCCUPANCY STATUS 0 Total housing units': 100.0,\n",
       "  'Percent; TENURE 0 Occupied housing units 0 Owner occupied 0 Owned free and clear': 9.8000000000000007,\n",
       "  'Total; Estimate; Some college no degree': 11.4,\n",
       "  'TractNum': 6001400400.0,\n",
       "  \"Unemployment rate; Estimate; EDUCATIONAL ATTAINMENT 0 Some college or associate's degree\": 0.0,\n",
       "  'Urban': 1.0},\n",
       " 4: {'HUNVFlag': 0.0,\n",
       "  'PCTGQTRS': 0.035825999999999997,\n",
       "  'Percent; OCCUPANCY STATUS 0 Total housing units': 100.0,\n",
       "  'Percent; TENURE 0 Occupied housing units 0 Owner occupied 0 Owned free and clear': 7.0,\n",
       "  'Total; Estimate; Some college no degree': 20.399999999999999,\n",
       "  'TractNum': 6001400500.0,\n",
       "  \"Unemployment rate; Estimate; EDUCATIONAL ATTAINMENT 0 Some college or associate's degree\": 16.100000000000001,\n",
       "  'Urban': 1.0}}"
      ]
     },
     "execution_count": 105,
     "metadata": {},
     "output_type": "execute_result"
    }
   ],
   "source": [
    "g"
   ]
  },
  {
   "cell_type": "code",
   "execution_count": null,
   "metadata": {
    "collapsed": true
   },
   "outputs": [],
   "source": []
  },
  {
   "cell_type": "code",
   "execution_count": null,
   "metadata": {
    "collapsed": true
   },
   "outputs": [],
   "source": []
  },
  {
   "cell_type": "code",
   "execution_count": null,
   "metadata": {
    "collapsed": true
   },
   "outputs": [],
   "source": []
  },
  {
   "cell_type": "code",
   "execution_count": null,
   "metadata": {
    "collapsed": true
   },
   "outputs": [],
   "source": []
  },
  {
   "cell_type": "code",
   "execution_count": null,
   "metadata": {
    "collapsed": true
   },
   "outputs": [],
   "source": []
  },
  {
   "cell_type": "code",
   "execution_count": null,
   "metadata": {
    "collapsed": true
   },
   "outputs": [],
   "source": []
  },
  {
   "cell_type": "code",
   "execution_count": null,
   "metadata": {
    "collapsed": true
   },
   "outputs": [],
   "source": []
  },
  {
   "cell_type": "code",
   "execution_count": null,
   "metadata": {
    "collapsed": true
   },
   "outputs": [],
   "source": []
  },
  {
   "cell_type": "code",
   "execution_count": null,
   "metadata": {
    "collapsed": true
   },
   "outputs": [],
   "source": []
  },
  {
   "cell_type": "code",
   "execution_count": null,
   "metadata": {
    "collapsed": true
   },
   "outputs": [],
   "source": []
  },
  {
   "cell_type": "code",
   "execution_count": null,
   "metadata": {
    "collapsed": true
   },
   "outputs": [],
   "source": []
  },
  {
   "cell_type": "code",
   "execution_count": null,
   "metadata": {
    "collapsed": true
   },
   "outputs": [],
   "source": []
  },
  {
   "cell_type": "code",
   "execution_count": null,
   "metadata": {
    "collapsed": true
   },
   "outputs": [],
   "source": []
  },
  {
   "cell_type": "code",
   "execution_count": null,
   "metadata": {
    "collapsed": true
   },
   "outputs": [],
   "source": []
  },
  {
   "cell_type": "code",
   "execution_count": null,
   "metadata": {
    "collapsed": true
   },
   "outputs": [],
   "source": []
  },
  {
   "cell_type": "code",
   "execution_count": null,
   "metadata": {
    "collapsed": true
   },
   "outputs": [],
   "source": []
  },
  {
   "cell_type": "code",
   "execution_count": null,
   "metadata": {
    "collapsed": true
   },
   "outputs": [],
   "source": []
  },
  {
   "cell_type": "code",
   "execution_count": null,
   "metadata": {
    "collapsed": true
   },
   "outputs": [],
   "source": []
  },
  {
   "cell_type": "code",
   "execution_count": null,
   "metadata": {
    "collapsed": true
   },
   "outputs": [],
   "source": []
  },
  {
   "cell_type": "code",
   "execution_count": null,
   "metadata": {
    "collapsed": true
   },
   "outputs": [],
   "source": []
  },
  {
   "cell_type": "code",
   "execution_count": null,
   "metadata": {
    "collapsed": true
   },
   "outputs": [],
   "source": []
  },
  {
   "cell_type": "code",
   "execution_count": null,
   "metadata": {
    "collapsed": true
   },
   "outputs": [],
   "source": []
  },
  {
   "cell_type": "code",
   "execution_count": null,
   "metadata": {
    "collapsed": true
   },
   "outputs": [],
   "source": []
  },
  {
   "cell_type": "code",
   "execution_count": null,
   "metadata": {
    "collapsed": true
   },
   "outputs": [],
   "source": []
  },
  {
   "cell_type": "code",
   "execution_count": 76,
   "metadata": {
    "collapsed": false
   },
   "outputs": [
    {
     "data": {
      "text/plain": [
       "{0: {'HUNVFlag': 0.0,\n",
       "  'PCTGQTRS': 0.00068099999999999996,\n",
       "  'Percent; OCCUPANCY STATUS 0 Total housing units': 100.0,\n",
       "  'Percent; TENURE 0 Occupied housing units 0 Owner occupied 0 Owned free and clear': 23.699999999999999,\n",
       "  'Total; Estimate; Some college no degree': 9.3000000000000007,\n",
       "  'TractNum': 6001400100.0,\n",
       "  \"Unemployment rate; Estimate; EDUCATIONAL ATTAINMENT 0 Some college or associate's degree\": 0.0,\n",
       "  'Urban': 1.0},\n",
       " 1: {'HUNVFlag': 0.0,\n",
       "  'PCTGQTRS': 0.035460999999999999,\n",
       "  'Percent; OCCUPANCY STATUS 0 Total housing units': 100.0,\n",
       "  'Percent; TENURE 0 Occupied housing units 0 Owner occupied 0 Owned free and clear': 15.5,\n",
       "  'Total; Estimate; Some college no degree': 6.7999999999999998,\n",
       "  'TractNum': 6001400200.0,\n",
       "  \"Unemployment rate; Estimate; EDUCATIONAL ATTAINMENT 0 Some college or associate's degree\": 0.0,\n",
       "  'Urban': 1.0},\n",
       " 2: {'HUNVFlag': 0.0,\n",
       "  'PCTGQTRS': 0.0082220000000000001,\n",
       "  'Percent; OCCUPANCY STATUS 0 Total housing units': 100.0,\n",
       "  'Percent; TENURE 0 Occupied housing units 0 Owner occupied 0 Owned free and clear': 10.4,\n",
       "  'Total; Estimate; Some college no degree': 10.9,\n",
       "  'TractNum': 6001400300.0,\n",
       "  \"Unemployment rate; Estimate; EDUCATIONAL ATTAINMENT 0 Some college or associate's degree\": 7.7000000000000002,\n",
       "  'Urban': 1.0},\n",
       " 3: {'HUNVFlag': 0.0,\n",
       "  'PCTGQTRS': 0.0089116999999999998,\n",
       "  'Percent; OCCUPANCY STATUS 0 Total housing units': 100.0,\n",
       "  'Percent; TENURE 0 Occupied housing units 0 Owner occupied 0 Owned free and clear': 9.8000000000000007,\n",
       "  'Total; Estimate; Some college no degree': 11.4,\n",
       "  'TractNum': 6001400400.0,\n",
       "  \"Unemployment rate; Estimate; EDUCATIONAL ATTAINMENT 0 Some college or associate's degree\": 0.0,\n",
       "  'Urban': 1.0},\n",
       " 4: {'HUNVFlag': 0.0,\n",
       "  'PCTGQTRS': 0.035825999999999997,\n",
       "  'Percent; OCCUPANCY STATUS 0 Total housing units': 100.0,\n",
       "  'Percent; TENURE 0 Occupied housing units 0 Owner occupied 0 Owned free and clear': 7.0,\n",
       "  'Total; Estimate; Some college no degree': 20.399999999999999,\n",
       "  'TractNum': 6001400500.0,\n",
       "  \"Unemployment rate; Estimate; EDUCATIONAL ATTAINMENT 0 Some college or associate's degree\": 16.100000000000001,\n",
       "  'Urban': 1.0}}"
      ]
     },
     "execution_count": 76,
     "metadata": {},
     "output_type": "execute_result"
    }
   ],
   "source": [
    "g"
   ]
  },
  {
   "cell_type": "code",
   "execution_count": null,
   "metadata": {
    "collapsed": true
   },
   "outputs": [],
   "source": []
  },
  {
   "cell_type": "code",
   "execution_count": null,
   "metadata": {
    "collapsed": true
   },
   "outputs": [],
   "source": []
  },
  {
   "cell_type": "code",
   "execution_count": null,
   "metadata": {
    "collapsed": true
   },
   "outputs": [],
   "source": []
  },
  {
   "cell_type": "code",
   "execution_count": null,
   "metadata": {
    "collapsed": true
   },
   "outputs": [],
   "source": []
  },
  {
   "cell_type": "code",
   "execution_count": null,
   "metadata": {
    "collapsed": true
   },
   "outputs": [],
   "source": []
  },
  {
   "cell_type": "code",
   "execution_count": null,
   "metadata": {
    "collapsed": true
   },
   "outputs": [],
   "source": []
  },
  {
   "cell_type": "code",
   "execution_count": 68,
   "metadata": {
    "collapsed": false
   },
   "outputs": [
    {
     "data": {
      "text/plain": [
       "6001400100.0"
      ]
     },
     "execution_count": 68,
     "metadata": {},
     "output_type": "execute_result"
    }
   ],
   "source": [
    "e[0]['TractNum']"
   ]
  },
  {
   "cell_type": "code",
   "execution_count": null,
   "metadata": {
    "collapsed": true
   },
   "outputs": [],
   "source": []
  },
  {
   "cell_type": "code",
   "execution_count": null,
   "metadata": {
    "collapsed": true
   },
   "outputs": [],
   "source": []
  },
  {
   "cell_type": "code",
   "execution_count": null,
   "metadata": {
    "collapsed": true
   },
   "outputs": [],
   "source": []
  },
  {
   "cell_type": "code",
   "execution_count": null,
   "metadata": {
    "collapsed": true
   },
   "outputs": [],
   "source": []
  },
  {
   "cell_type": "code",
   "execution_count": null,
   "metadata": {
    "collapsed": true
   },
   "outputs": [],
   "source": []
  },
  {
   "cell_type": "code",
   "execution_count": null,
   "metadata": {
    "collapsed": true
   },
   "outputs": [],
   "source": []
  },
  {
   "cell_type": "code",
   "execution_count": null,
   "metadata": {
    "collapsed": true
   },
   "outputs": [],
   "source": []
  },
  {
   "cell_type": "code",
   "execution_count": null,
   "metadata": {
    "collapsed": true
   },
   "outputs": [],
   "source": []
  },
  {
   "cell_type": "code",
   "execution_count": null,
   "metadata": {
    "collapsed": true
   },
   "outputs": [],
   "source": []
  },
  {
   "cell_type": "code",
   "execution_count": null,
   "metadata": {
    "collapsed": true
   },
   "outputs": [],
   "source": []
  },
  {
   "cell_type": "code",
   "execution_count": null,
   "metadata": {
    "collapsed": true
   },
   "outputs": [],
   "source": []
  },
  {
   "cell_type": "code",
   "execution_count": null,
   "metadata": {
    "collapsed": true
   },
   "outputs": [],
   "source": []
  },
  {
   "cell_type": "code",
   "execution_count": null,
   "metadata": {
    "collapsed": true
   },
   "outputs": [],
   "source": []
  },
  {
   "cell_type": "code",
   "execution_count": 47,
   "metadata": {
    "collapsed": false
   },
   "outputs": [
    {
     "data": {
      "text/plain": [
       "{0: {'  TractNum': 6001400100.0,\n",
       "  'HUNVFlag': 0.0,\n",
       "  'PCTGQTRS': 0.00068099999999999996,\n",
       "  'Percent; OCCUPANCY STATUS 0 Total housing units': 100.0,\n",
       "  'Percent; TENURE 0 Occupied housing units 0 Owner occupied 0 Owned free and clear': 23.699999999999999,\n",
       "  'Total; Estimate; Some college no degree': 9.3000000000000007,\n",
       "  \"Unemployment rate; Estimate; EDUCATIONAL ATTAINMENT 0 Some college or associate's degree\": 0.0,\n",
       "  'Urban': 1.0},\n",
       " 1: {'  TractNum': 6001400200.0,\n",
       "  'HUNVFlag': 0.0,\n",
       "  'PCTGQTRS': 0.035460999999999999,\n",
       "  'Percent; OCCUPANCY STATUS 0 Total housing units': 100.0,\n",
       "  'Percent; TENURE 0 Occupied housing units 0 Owner occupied 0 Owned free and clear': 15.5,\n",
       "  'Total; Estimate; Some college no degree': 6.7999999999999998,\n",
       "  \"Unemployment rate; Estimate; EDUCATIONAL ATTAINMENT 0 Some college or associate's degree\": 0.0,\n",
       "  'Urban': 1.0},\n",
       " 2: {'  TractNum': 6001400300.0,\n",
       "  'HUNVFlag': 0.0,\n",
       "  'PCTGQTRS': 0.0082220000000000001,\n",
       "  'Percent; OCCUPANCY STATUS 0 Total housing units': 100.0,\n",
       "  'Percent; TENURE 0 Occupied housing units 0 Owner occupied 0 Owned free and clear': 10.4,\n",
       "  'Total; Estimate; Some college no degree': 10.9,\n",
       "  \"Unemployment rate; Estimate; EDUCATIONAL ATTAINMENT 0 Some college or associate's degree\": 7.7000000000000002,\n",
       "  'Urban': 1.0},\n",
       " 3: {'  TractNum': 6001400400.0,\n",
       "  'HUNVFlag': 0.0,\n",
       "  'PCTGQTRS': 0.0089116999999999998,\n",
       "  'Percent; OCCUPANCY STATUS 0 Total housing units': 100.0,\n",
       "  'Percent; TENURE 0 Occupied housing units 0 Owner occupied 0 Owned free and clear': 9.8000000000000007,\n",
       "  'Total; Estimate; Some college no degree': 11.4,\n",
       "  \"Unemployment rate; Estimate; EDUCATIONAL ATTAINMENT 0 Some college or associate's degree\": 0.0,\n",
       "  'Urban': 1.0},\n",
       " 4: {'  TractNum': 6001400500.0,\n",
       "  'HUNVFlag': 0.0,\n",
       "  'PCTGQTRS': 0.035825999999999997,\n",
       "  'Percent; OCCUPANCY STATUS 0 Total housing units': 100.0,\n",
       "  'Percent; TENURE 0 Occupied housing units 0 Owner occupied 0 Owned free and clear': 7.0,\n",
       "  'Total; Estimate; Some college no degree': 20.399999999999999,\n",
       "  \"Unemployment rate; Estimate; EDUCATIONAL ATTAINMENT 0 Some college or associate's degree\": 16.100000000000001,\n",
       "  'Urban': 1.0}}"
      ]
     },
     "execution_count": 47,
     "metadata": {},
     "output_type": "execute_result"
    }
   ],
   "source": [
    "e"
   ]
  },
  {
   "cell_type": "code",
   "execution_count": null,
   "metadata": {
    "collapsed": true
   },
   "outputs": [],
   "source": []
  },
  {
   "cell_type": "code",
   "execution_count": null,
   "metadata": {
    "collapsed": true
   },
   "outputs": [],
   "source": []
  },
  {
   "cell_type": "code",
   "execution_count": 42,
   "metadata": {
    "collapsed": false
   },
   "outputs": [
    {
     "data": {
      "text/plain": [
       "{'HUNVFlag': 0.0,\n",
       " 'PCTGQTRS': 0.035460999999999999,\n",
       " 'Percent; OCCUPANCY STATUS 0 Total housing units': 100.0,\n",
       " 'Percent; TENURE 0 Occupied housing units 0 Owner occupied 0 Owned free and clear': 15.5,\n",
       " 'Total; Estimate; Some college no degree': 6.7999999999999998,\n",
       " \"Unemployment rate; Estimate; EDUCATIONAL ATTAINMENT 0 Some college or associate's degree\": 0.0,\n",
       " 'Urban': 1.0}"
      ]
     },
     "execution_count": 42,
     "metadata": {},
     "output_type": "execute_result"
    }
   ],
   "source": [
    "b[1]"
   ]
  },
  {
   "cell_type": "code",
   "execution_count": null,
   "metadata": {
    "collapsed": true
   },
   "outputs": [],
   "source": []
  },
  {
   "cell_type": "code",
   "execution_count": null,
   "metadata": {
    "collapsed": true
   },
   "outputs": [],
   "source": []
  },
  {
   "cell_type": "code",
   "execution_count": 124,
   "metadata": {
    "collapsed": false
   },
   "outputs": [],
   "source": [
    "dict = {'Python' : '.py', 'C++' : '.cpp', 'Java' : '.java'}\n",
    "f = open(\"dict.txt\",\"w\")\n",
    "f.write(str(new_dict))\n",
    "f.close()"
   ]
  },
  {
   "cell_type": "code",
   "execution_count": null,
   "metadata": {
    "collapsed": true
   },
   "outputs": [],
   "source": []
  },
  {
   "cell_type": "code",
   "execution_count": null,
   "metadata": {
    "collapsed": true
   },
   "outputs": [],
   "source": []
  },
  {
   "cell_type": "code",
   "execution_count": null,
   "metadata": {
    "collapsed": true
   },
   "outputs": [],
   "source": []
  },
  {
   "cell_type": "code",
   "execution_count": null,
   "metadata": {
    "collapsed": true
   },
   "outputs": [],
   "source": []
  },
  {
   "cell_type": "code",
   "execution_count": null,
   "metadata": {
    "collapsed": true
   },
   "outputs": [],
   "source": []
  },
  {
   "cell_type": "code",
   "execution_count": null,
   "metadata": {
    "collapsed": true
   },
   "outputs": [],
   "source": []
  },
  {
   "cell_type": "code",
   "execution_count": 36,
   "metadata": {
    "collapsed": false
   },
   "outputs": [
    {
     "data": {
      "text/plain": [
       "{0: {'HUNVFlag': 0.0,\n",
       "  'PCTGQTRS': 0.00068099999999999996,\n",
       "  'Percent; OCCUPANCY STATUS 0 Total housing units': 100.0,\n",
       "  'Percent; TENURE 0 Occupied housing units 0 Owner occupied 0 Owned free and clear': 23.699999999999999,\n",
       "  'Total; Estimate; Some college no degree': 9.3000000000000007,\n",
       "  \"Unemployment rate; Estimate; EDUCATIONAL ATTAINMENT 0 Some college or associate's degree\": 0.0,\n",
       "  'Urban': 1.0},\n",
       " 1: {'HUNVFlag': 0.0,\n",
       "  'PCTGQTRS': 0.035460999999999999,\n",
       "  'Percent; OCCUPANCY STATUS 0 Total housing units': 100.0,\n",
       "  'Percent; TENURE 0 Occupied housing units 0 Owner occupied 0 Owned free and clear': 15.5,\n",
       "  'Total; Estimate; Some college no degree': 6.7999999999999998,\n",
       "  \"Unemployment rate; Estimate; EDUCATIONAL ATTAINMENT 0 Some college or associate's degree\": 0.0,\n",
       "  'Urban': 1.0},\n",
       " 2: {'HUNVFlag': 0.0,\n",
       "  'PCTGQTRS': 0.0082220000000000001,\n",
       "  'Percent; OCCUPANCY STATUS 0 Total housing units': 100.0,\n",
       "  'Percent; TENURE 0 Occupied housing units 0 Owner occupied 0 Owned free and clear': 10.4,\n",
       "  'Total; Estimate; Some college no degree': 10.9,\n",
       "  \"Unemployment rate; Estimate; EDUCATIONAL ATTAINMENT 0 Some college or associate's degree\": 7.7000000000000002,\n",
       "  'Urban': 1.0},\n",
       " 3: {'HUNVFlag': 0.0,\n",
       "  'PCTGQTRS': 0.0089116999999999998,\n",
       "  'Percent; OCCUPANCY STATUS 0 Total housing units': 100.0,\n",
       "  'Percent; TENURE 0 Occupied housing units 0 Owner occupied 0 Owned free and clear': 9.8000000000000007,\n",
       "  'Total; Estimate; Some college no degree': 11.4,\n",
       "  \"Unemployment rate; Estimate; EDUCATIONAL ATTAINMENT 0 Some college or associate's degree\": 0.0,\n",
       "  'Urban': 1.0},\n",
       " 4: {'HUNVFlag': 0.0,\n",
       "  'PCTGQTRS': 0.035825999999999997,\n",
       "  'Percent; OCCUPANCY STATUS 0 Total housing units': 100.0,\n",
       "  'Percent; TENURE 0 Occupied housing units 0 Owner occupied 0 Owned free and clear': 7.0,\n",
       "  'Total; Estimate; Some college no degree': 20.399999999999999,\n",
       "  \"Unemployment rate; Estimate; EDUCATIONAL ATTAINMENT 0 Some college or associate's degree\": 16.100000000000001,\n",
       "  'Urban': 1.0}}"
      ]
     },
     "execution_count": 36,
     "metadata": {},
     "output_type": "execute_result"
    }
   ],
   "source": []
  },
  {
   "cell_type": "code",
   "execution_count": null,
   "metadata": {
    "collapsed": true
   },
   "outputs": [],
   "source": []
  },
  {
   "cell_type": "code",
   "execution_count": null,
   "metadata": {
    "collapsed": true
   },
   "outputs": [],
   "source": []
  },
  {
   "cell_type": "code",
   "execution_count": null,
   "metadata": {
    "collapsed": true
   },
   "outputs": [],
   "source": []
  },
  {
   "cell_type": "code",
   "execution_count": null,
   "metadata": {
    "collapsed": true
   },
   "outputs": [],
   "source": []
  },
  {
   "cell_type": "code",
   "execution_count": null,
   "metadata": {
    "collapsed": true
   },
   "outputs": [],
   "source": []
  },
  {
   "cell_type": "code",
   "execution_count": null,
   "metadata": {
    "collapsed": true
   },
   "outputs": [],
   "source": []
  },
  {
   "cell_type": "code",
   "execution_count": null,
   "metadata": {
    "collapsed": true
   },
   "outputs": [],
   "source": []
  },
  {
   "cell_type": "code",
   "execution_count": null,
   "metadata": {
    "collapsed": true
   },
   "outputs": [],
   "source": []
  },
  {
   "cell_type": "code",
   "execution_count": null,
   "metadata": {
    "collapsed": true
   },
   "outputs": [],
   "source": []
  },
  {
   "cell_type": "code",
   "execution_count": null,
   "metadata": {
    "collapsed": true
   },
   "outputs": [],
   "source": []
  },
  {
   "cell_type": "code",
   "execution_count": null,
   "metadata": {
    "collapsed": true
   },
   "outputs": [],
   "source": []
  },
  {
   "cell_type": "code",
   "execution_count": null,
   "metadata": {
    "collapsed": true
   },
   "outputs": [],
   "source": []
  },
  {
   "cell_type": "code",
   "execution_count": null,
   "metadata": {
    "collapsed": true
   },
   "outputs": [],
   "source": []
  },
  {
   "cell_type": "code",
   "execution_count": null,
   "metadata": {
    "collapsed": true
   },
   "outputs": [],
   "source": []
  },
  {
   "cell_type": "code",
   "execution_count": null,
   "metadata": {
    "collapsed": true
   },
   "outputs": [],
   "source": []
  },
  {
   "cell_type": "code",
   "execution_count": null,
   "metadata": {
    "collapsed": true
   },
   "outputs": [],
   "source": []
  },
  {
   "cell_type": "code",
   "execution_count": null,
   "metadata": {
    "collapsed": true
   },
   "outputs": [],
   "source": []
  },
  {
   "cell_type": "code",
   "execution_count": null,
   "metadata": {
    "collapsed": true
   },
   "outputs": [],
   "source": []
  },
  {
   "cell_type": "code",
   "execution_count": null,
   "metadata": {
    "collapsed": true
   },
   "outputs": [],
   "source": []
  },
  {
   "cell_type": "code",
   "execution_count": null,
   "metadata": {
    "collapsed": true
   },
   "outputs": [],
   "source": []
  },
  {
   "cell_type": "code",
   "execution_count": null,
   "metadata": {
    "collapsed": true
   },
   "outputs": [],
   "source": []
  },
  {
   "cell_type": "code",
   "execution_count": null,
   "metadata": {
    "collapsed": true
   },
   "outputs": [],
   "source": []
  },
  {
   "cell_type": "code",
   "execution_count": null,
   "metadata": {
    "collapsed": true
   },
   "outputs": [],
   "source": []
  },
  {
   "cell_type": "code",
   "execution_count": null,
   "metadata": {
    "collapsed": true
   },
   "outputs": [],
   "source": []
  },
  {
   "cell_type": "code",
   "execution_count": null,
   "metadata": {
    "collapsed": true
   },
   "outputs": [],
   "source": []
  },
  {
   "cell_type": "code",
   "execution_count": null,
   "metadata": {
    "collapsed": true
   },
   "outputs": [],
   "source": []
  }
 ],
 "metadata": {
  "kernelspec": {
   "display_name": "Python 3",
   "language": "python",
   "name": "python3"
  },
  "language_info": {
   "codemirror_mode": {
    "name": "ipython",
    "version": 3
   },
   "file_extension": ".py",
   "mimetype": "text/x-python",
   "name": "python",
   "nbconvert_exporter": "python",
   "pygments_lexer": "ipython3",
   "version": "3.5.3"
  }
 },
 "nbformat": 4,
 "nbformat_minor": 0
}
