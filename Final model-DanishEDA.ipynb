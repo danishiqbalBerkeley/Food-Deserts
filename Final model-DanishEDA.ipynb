{
 "cells": [
  {
   "cell_type": "code",
   "execution_count": 2,
   "metadata": {
    "collapsed": false,
    "scrolled": true
   },
   "outputs": [],
   "source": [
    "import numpy as np\n",
    "import pandas as pd\n",
    "import csv\n",
    "from sklearn import metrics\n",
    "from sklearn.linear_model import LogisticRegression\n",
    "\n",
    "#remove when transferring\n",
    "#end remove\n",
    "\n",
    "data = pd.read_csv('./Merged2.csv', sep=',')\n",
    "labels2 = pd.read_csv('./Labels2.csv', sep=',')\n"
   ]
  },
  {
   "cell_type": "raw",
   "metadata": {},
   "source": [
    "print('hi')"
   ]
  },
  {
   "cell_type": "code",
   "execution_count": null,
   "metadata": {
    "collapsed": true
   },
   "outputs": [],
   "source": []
  },
  {
   "cell_type": "code",
   "execution_count": null,
   "metadata": {
    "collapsed": true
   },
   "outputs": [],
   "source": []
  },
  {
   "cell_type": "code",
   "execution_count": null,
   "metadata": {
    "collapsed": true
   },
   "outputs": [],
   "source": []
  },
  {
   "cell_type": "code",
   "execution_count": 19,
   "metadata": {
    "collapsed": false
   },
   "outputs": [
    {
     "name": "stdout",
     "output_type": "stream",
     "text": [
      "Intercept:\t-4.13946\n",
      "\n",
      "Urban:\t3.71905\n",
      "PCTGQTRS:\t0.57217\n",
      "HUNVFlag:\t2.34805\n",
      "Unemployment rate; Estimate; EDUCATIONAL ATTAINMENT 0 Some college or associate's degree:\t-0.02524\n",
      "Total; Estimate; Some college no degree:\t0.07896\n"
     ]
    }
   ],
   "source": [
    "# print coefficients for trained logistic regression model\n",
    "\n",
    "print \"Intercept:\\t\" + str(round(logreg.intercept_[0], 5)) + \"\\n\"\n",
    "features = list(data)\n",
    "for i in range(len(features)):\n",
    "    print str(features[i]) + \":\\t\" + str(round(logreg.coef_[0][i], 5))"
   ]
  },
  {
   "cell_type": "code",
   "execution_count": 31,
   "metadata": {
    "collapsed": false
   },
   "outputs": [
    {
     "name": "stdout",
     "output_type": "stream",
     "text": [
      "Model Accuracy On Test Data:\n",
      "\n",
      "Threshold\tFood Deserts\tAccuracy\n",
      "0.05:\t\t790/806\t\t0.758064516129\n",
      "0.1:\t\t774/806\t\t0.775434243176\n",
      "0.15:\t\t758/806\t\t0.785359801489\n",
      "0.2:\t\t752/806\t\t0.792803970223\n",
      "0.25:\t\t752/806\t\t0.792803970223\n",
      "0.3:\t\t749/806\t\t0.794044665012\n",
      "0.35:\t\t748/806\t\t0.795285359801\n",
      "0.4:\t\t744/806\t\t0.792803970223\n",
      "0.45:\t\t737/806\t\t0.794044665012\n",
      "0.5:\t\t724/806\t\t0.790322580645\n",
      "0.55:\t\t697/806\t\t0.786600496278\n",
      "0.6:\t\t651/806\t\t0.764267990074\n",
      "0.65:\t\t581/806\t\t0.741935483871\n",
      "0.7:\t\t504/806\t\t0.698511166253\n",
      "0.75:\t\t389/806\t\t0.620347394541\n",
      "0.8:\t\t265/806\t\t0.526054590571\n",
      "0.85:\t\t151/806\t\t0.426799007444\n",
      "0.9:\t\t97/806\t\t0.377171215881\n",
      "0.95:\t\t70/806\t\t0.343672456576\n",
      "\n",
      "\n",
      "\n",
      "Model Accuracy On All Data\n",
      "\n",
      "Threshold\tFood Deserts\tAccuracy\n",
      "0.05:\t\t7943/8044\t\t0.71270512183\n",
      "0.1:\t\t7685/8044\t\t0.736325211338\n",
      "0.15:\t\t7508/8044\t\t0.749875683739\n",
      "0.2:\t\t7452/8044\t\t0.75435106912\n",
      "0.25:\t\t7430/8044\t\t0.756091496768\n",
      "0.3:\t\t7417/8044\t\t0.757210343113\n",
      "0.35:\t\t7406/8044\t\t0.757583291895\n",
      "0.4:\t\t7363/8044\t\t0.757210343113\n",
      "0.45:\t\t7293/8044\t\t0.758453505719\n",
      "0.5:\t\t7150/8044\t\t0.760069617106\n",
      "0.55:\t\t6849/8044\t\t0.76093983093\n",
      "0.6:\t\t6385/8044\t\t0.757210343113\n",
      "0.65:\t\t5759/8044\t\t0.744032819493\n",
      "0.7:\t\t4936/8044\t\t0.714569865738\n",
      "0.75:\t\t3890/8044\t\t0.657135753357\n",
      "0.8:\t\t2689/8044\t\t0.567255096967\n",
      "0.85:\t\t1581/8044\t\t0.469542516161\n",
      "0.9:\t\t954/8044\t\t0.40999502735\n",
      "0.95:\t\t695/8044\t\t0.383267031328\n",
      "\n",
      "\n",
      "\n"
     ]
    }
   ],
   "source": [
    "def evaluateSigmoid(data_, labels_):\n",
    "    print \"Threshold\\tFood Deserts\\tAccuracy\"\n",
    "    for threshold in [i for i in np.arange(0.05, 1, 0.05)]:\n",
    "        predictions = []\n",
    "        for i in range(len(data_)):\n",
    "\n",
    "            z = round(logreg.intercept_[0], 5)\n",
    "            for j in range(len(features)):\n",
    "                z += (round(logreg.coef_[0][j], 5)) * data_.iloc[i][j]\n",
    "\n",
    "            score = 1.0 / (1.0 + np.exp(-1.0 * z))\n",
    "\n",
    "            if score < threshold:\n",
    "                predictions.append(0)\n",
    "            else:\n",
    "                predictions.append(1)\n",
    "\n",
    "\n",
    "        correct = 0.0\n",
    "        total = 0.0\n",
    "        for i in range(len(labels_)):\n",
    "            total += 1.0\n",
    "            correct += float(predictions[i] == labels_[i])\n",
    "\n",
    "        print str(threshold) + \":\\t\\t\" + str(sum(predictions)) + \"/\" + str(len(predictions)) + \\\n",
    "            \"\\t\\t\" + str(correct / total) \n",
    "    print \"\\n\\n\"\n",
    "\n",
    "print \"Model Accuracy On Test Data:\\n\"\n",
    "evaluateSigmoid(data_ = split_test_data2, labels_ = split_test_labels2)\n",
    "\n",
    "print \"Model Accuracy On All Data\\n\"\n",
    "evaluateSigmoid(data_ = data, labels_ = np.array(labels2['LAhalfand10']))"
   ]
  }
 ],
 "metadata": {
  "kernelspec": {
   "display_name": "Python 3",
   "language": "python",
   "name": "python3"
  },
  "language_info": {
   "codemirror_mode": {
    "name": "ipython",
    "version": 3
   },
   "file_extension": ".py",
   "mimetype": "text/x-python",
   "name": "python",
   "nbconvert_exporter": "python",
   "pygments_lexer": "ipython3",
   "version": "3.5.3"
  }
 },
 "nbformat": 4,
 "nbformat_minor": 1
}
