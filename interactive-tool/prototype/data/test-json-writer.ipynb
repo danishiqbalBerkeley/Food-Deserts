{
 "cells": [
  {
   "cell_type": "code",
   "execution_count": 1,
   "metadata": {
    "collapsed": true
   },
   "outputs": [],
   "source": [
    "# Import libraries\n",
    "import json\n",
    "import numpy as np\n",
    "import os\n",
    "import pandas as pd"
   ]
  },
  {
   "cell_type": "code",
   "execution_count": 2,
   "metadata": {
    "collapsed": true
   },
   "outputs": [],
   "source": [
    "# Make sure we can find the files we need\n",
    "assert(os.path.isfile('../../../Baseline.csv'))\n",
    "assert(os.path.isfile('../../../California.csv'))\n",
    "assert(os.path.isfile('../../../Labels.csv'))\n",
    "assert(os.path.isfile('./census-tract-feature-values.js'))"
   ]
  },
  {
   "cell_type": "code",
   "execution_count": 106,
   "metadata": {},
   "outputs": [],
   "source": [
    "with open ('./census-tract-feature-values.json', 'w+') as f_out:\n",
    "    with open ('./dict.txt', 'r') as f_in:\n",
    "        f_out.write(\"{\")\n",
    "        f_in.read(1)\n",
    "        for tract in f_in.readline().split('}')[:8044]:\n",
    "            tract_num, features = tract.split('{')\n",
    "            f_out.write( \"\\n    \\\"\" + str(tract_num.strip(',').strip().strip(':').strip('\\'')) + \"\\\":  {\")\n",
    "            \n",
    "            for feature in features.split(','):\n",
    "                name, value = feature.split(':')\n",
    "                f_out.write(\"\\n      \\\"\" + name.strip().strip('\\'').strip('\\\"') + \\\n",
    "                            \"\\\":  \" + str(round(float(value), 4)) + \",\")\n",
    "            f_out.write(\"\\n    },\")\n",
    "        f_out.write(\"\\n}\")\n",
    "#         print \"\\t\" + str(tract_num.strip().strip(':').strip('\\'')) + \": {\\n\""
   ]
  },
  {
   "cell_type": "code",
   "execution_count": 90,
   "metadata": {},
   "outputs": [
    {
     "name": "stdout",
     "output_type": "stream",
     "text": [
      "{\n",
      "    \"6013329000\":  {\n",
      "      \"Total; Estimate; Some college no degree\":  27.2\n",
      "      \"Percent; TENURE 0 Occupied housing units 0 Owner occupied 0 Owned free and clear\":  12.8\n",
      "      \"Unemployment rate; Estimate; EDUCATIONAL ATTAINMENT 0 Some college or associate's degree\":  6.5\n",
      "      \"TractNum\":  6013329000.0\n",
      "      \"HUNVFlag\":  0.0\n",
      "      \"PCTGQTRS\":  0.007\n",
      "      \"Urban\":  1.0\n",
      "      \"Percent; OCCUPANCY STATUS 0 Total housing units\":  100.0\n",
      "    },\n",
      "    \"6065041904\":  {\n",
      "      \"Total; Estimate; Some college no degree\":  21.6\n",
      "      \"Percent; TENURE 0 Occupied housing units 0 Owner occupied 0 Owned free and clear\":  18.0\n",
      "      \"Unemployment rate; Estimate; EDUCATIONAL ATTAINMENT 0 Some college or associate's degree\":  21.3\n",
      "      \"TractNum\":  6065041904.0\n",
      "      \"HUNVFlag\":  0.0\n",
      "      \"PCTGQTRS\":  0.0044\n",
      "      \"Urban\":  1.0\n",
      "      \"Percent; OCCUPANCY STATUS 0 Total housing units\":  100.0\n",
      "    },\n",
      "    \"6073013504\":  {\n",
      "      \"Total; Estimate; Some college no degree\":  26.2\n",
      "      \"Percent; TENURE 0 Occupied housing units 0 Owner occupied 0 Owned free and clear\":  10.0\n",
      "      \"Unemployment rate; Estimate; EDUCATIONAL ATTAINMENT 0 Some college or associate's degree\":  5.4\n",
      "      \"TractNum\":  6073013504.0\n",
      "      \"HUNVFlag\":  0.0\n",
      "      \"PCTGQTRS\":  0.0\n",
      "      \"Urban\":  1.0\n",
      "      \"Percent; OCCUPANCY STATUS 0 Total housing units\":  100.0\n",
      "    },\n",
      "    \"6037543603\":  {\n",
      "      \"Total; Estimate; Some college no degree\":  23.1\n",
      "      \"Percent; TENURE 0 Occupied housing units 0 Owner occupied 0 Owned free and clear\":  40.1\n",
      "      \"Unemployment rate; Estimate; EDUCATIONAL ATTAINMENT 0 Some college or associate's degree\":  3.0\n",
      "      \"TractNum\":  6037543603.0\n",
      "      \"HUNVFlag\":  0.0\n",
      "      \"PCTGQTRS\":  0.003\n",
      "      \"Urban\":  1.0\n",
      "      \"Percent; OCCUPANCY STATUS 0 Total housing units\":  100.0\n",
      "    },\n",
      "    \"6037920023\":  {\n",
      "      \"Total; Estimate; Some college no degree\":  28.8\n",
      "      \"Percent; TENURE 0 Occupied housing units 0 Owner occupied 0 Owned free and clear\":  24.6\n",
      "      \"Unemployment rate; Estimate; EDUCATIONAL ATTAINMENT 0 Some college or associate's degree\":  3.9\n",
      "      \"TractNum\":  6037920023.0\n",
      "      \"HUNVFlag\":  0.0\n",
      "      \"PCTGQTRS\":  0.0038\n",
      "      \"Urban\":  1.0\n",
      "      \"Percent; OCCUPANCY STATUS 0 Total housing units\":  100.0\n",
      "    },\n",
      "}\n"
     ]
    }
   ],
   "source": [
    "with open ('./census-tract-feature-values.json', 'r') as f:\n",
    "    print f.read()"
   ]
  },
  {
   "cell_type": "code",
   "execution_count": 4,
   "metadata": {},
   "outputs": [
    {
     "ename": "ValueError",
     "evalue": "Expected object or value",
     "output_type": "error",
     "traceback": [
      "\u001b[0;31m---------------------------------------------------------------------------\u001b[0m",
      "\u001b[0;31mValueError\u001b[0m                                Traceback (most recent call last)",
      "\u001b[0;32m<ipython-input-4-c9beaef9b63b>\u001b[0m in \u001b[0;36m<module>\u001b[0;34m()\u001b[0m\n\u001b[1;32m      1\u001b[0m \u001b[0;31m# Load data frame\u001b[0m\u001b[0;34m\u001b[0m\u001b[0;34m\u001b[0m\u001b[0m\n\u001b[0;32m----> 2\u001b[0;31m \u001b[0mcalifornia\u001b[0m \u001b[0;34m=\u001b[0m \u001b[0mpd\u001b[0m\u001b[0;34m.\u001b[0m\u001b[0mread_json\u001b[0m\u001b[0;34m(\u001b[0m\u001b[0;34m'./census-tract-feature-values.js'\u001b[0m\u001b[0;34m)\u001b[0m\u001b[0;34m\u001b[0m\u001b[0m\n\u001b[0m\u001b[1;32m      3\u001b[0m \u001b[0;32mprint\u001b[0m \u001b[0mcalifornia\u001b[0m\u001b[0;34m.\u001b[0m\u001b[0mshape\u001b[0m\u001b[0;34m\u001b[0m\u001b[0m\n\u001b[1;32m      4\u001b[0m \u001b[0;32mprint\u001b[0m \u001b[0mcalifornia\u001b[0m\u001b[0;34m.\u001b[0m\u001b[0mcolumns\u001b[0m\u001b[0;34m\u001b[0m\u001b[0m\n",
      "\u001b[0;32m/anaconda/lib/python2.7/site-packages/pandas/io/json/json.pyc\u001b[0m in \u001b[0;36mread_json\u001b[0;34m(path_or_buf, orient, typ, dtype, convert_axes, convert_dates, keep_default_dates, numpy, precise_float, date_unit, encoding, lines)\u001b[0m\n\u001b[1;32m    352\u001b[0m         obj = FrameParser(json, orient, dtype, convert_axes, convert_dates,\n\u001b[1;32m    353\u001b[0m                           \u001b[0mkeep_default_dates\u001b[0m\u001b[0;34m,\u001b[0m \u001b[0mnumpy\u001b[0m\u001b[0;34m,\u001b[0m \u001b[0mprecise_float\u001b[0m\u001b[0;34m,\u001b[0m\u001b[0;34m\u001b[0m\u001b[0m\n\u001b[0;32m--> 354\u001b[0;31m                           date_unit).parse()\n\u001b[0m\u001b[1;32m    355\u001b[0m \u001b[0;34m\u001b[0m\u001b[0m\n\u001b[1;32m    356\u001b[0m     \u001b[0;32mif\u001b[0m \u001b[0mtyp\u001b[0m \u001b[0;34m==\u001b[0m \u001b[0;34m'series'\u001b[0m \u001b[0;32mor\u001b[0m \u001b[0mobj\u001b[0m \u001b[0;32mis\u001b[0m \u001b[0mNone\u001b[0m\u001b[0;34m:\u001b[0m\u001b[0;34m\u001b[0m\u001b[0m\n",
      "\u001b[0;32m/anaconda/lib/python2.7/site-packages/pandas/io/json/json.pyc\u001b[0m in \u001b[0;36mparse\u001b[0;34m(self)\u001b[0m\n\u001b[1;32m    420\u001b[0m \u001b[0;34m\u001b[0m\u001b[0m\n\u001b[1;32m    421\u001b[0m         \u001b[0;32melse\u001b[0m\u001b[0;34m:\u001b[0m\u001b[0;34m\u001b[0m\u001b[0m\n\u001b[0;32m--> 422\u001b[0;31m             \u001b[0mself\u001b[0m\u001b[0;34m.\u001b[0m\u001b[0m_parse_no_numpy\u001b[0m\u001b[0;34m(\u001b[0m\u001b[0;34m)\u001b[0m\u001b[0;34m\u001b[0m\u001b[0m\n\u001b[0m\u001b[1;32m    423\u001b[0m \u001b[0;34m\u001b[0m\u001b[0m\n\u001b[1;32m    424\u001b[0m         \u001b[0;32mif\u001b[0m \u001b[0mself\u001b[0m\u001b[0;34m.\u001b[0m\u001b[0mobj\u001b[0m \u001b[0;32mis\u001b[0m \u001b[0mNone\u001b[0m\u001b[0;34m:\u001b[0m\u001b[0;34m\u001b[0m\u001b[0m\n",
      "\u001b[0;32m/anaconda/lib/python2.7/site-packages/pandas/io/json/json.pyc\u001b[0m in \u001b[0;36m_parse_no_numpy\u001b[0;34m(self)\u001b[0m\n\u001b[1;32m    637\u001b[0m         \u001b[0;32mif\u001b[0m \u001b[0morient\u001b[0m \u001b[0;34m==\u001b[0m \u001b[0;34m\"columns\"\u001b[0m\u001b[0;34m:\u001b[0m\u001b[0;34m\u001b[0m\u001b[0m\n\u001b[1;32m    638\u001b[0m             self.obj = DataFrame(\n\u001b[0;32m--> 639\u001b[0;31m                 loads(json, precise_float=self.precise_float), dtype=None)\n\u001b[0m\u001b[1;32m    640\u001b[0m         \u001b[0;32melif\u001b[0m \u001b[0morient\u001b[0m \u001b[0;34m==\u001b[0m \u001b[0;34m\"split\"\u001b[0m\u001b[0;34m:\u001b[0m\u001b[0;34m\u001b[0m\u001b[0m\n\u001b[1;32m    641\u001b[0m             decoded = dict((str(k), v)\n",
      "\u001b[0;31mValueError\u001b[0m: Expected object or value"
     ]
    }
   ],
   "source": [
    "# Load data frame\n",
    "california = pd.read_json('./census-tract-feature-values.js')\n",
    "print california.shape\n",
    "print california.columns"
   ]
  },
  {
   "cell_type": "code",
   "execution_count": 4,
   "metadata": {},
   "outputs": [
    {
     "name": "stdout",
     "output_type": "stream",
     "text": [
      "8044\n",
      "[6001400100 6001400200 6001400300 ..., 6115040902 6115041000 6115041100]\n"
     ]
    }
   ],
   "source": [
    "# Extract tract numbers from data frame\n",
    "tract_numbers = np.array(california['CensusTract'])\n",
    "print len(tract_numbers)\n",
    "print tract_numbers"
   ]
  },
  {
   "cell_type": "code",
   "execution_count": 5,
   "metadata": {},
   "outputs": [
    {
     "name": "stdout",
     "output_type": "stream",
     "text": [
      "{\"Feature Number 4\": 4444, \"Feature Number 1\": 1111, \"Feature Number 3\": 3333, \"Feature Number 2\": 2222}\n"
     ]
    }
   ],
   "source": [
    "# Create dummy feature value dict that we'll use for every census tract (for now...)\n",
    "feature_names=[\"Feature Number 1\", \"Feature Number 2\", \"Feature Number 3\", \"Feature Number 4\"]\n",
    "feature_dict = {feature_names[i]: (1111 * (i+1)) for i in range(len(feature_names))}\n",
    "print json.dumps(feature_dict)"
   ]
  },
  {
   "cell_type": "code",
   "execution_count": 6,
   "metadata": {},
   "outputs": [
    {
     "name": "stdout",
     "output_type": "stream",
     "text": [
      "{\n",
      "  \"6001400100\": {\n",
      "    \"Feature Number 4\": 4444, \n",
      "    \"Feature Number 1\": 1111, \n",
      "    \"Feature Number 3\": 3333, \n",
      "    \"Feature Number 2\": 2222\n",
      "  }, \n",
      "  \"6001400300\": {\n",
      "    \"Feature Number 4\": 4444, \n",
      "    \"Feature Number 1\": 1111, \n",
      "    \"Feature Number 3\": 3333, \n",
      "    \"Feature Number 2\": 2222\n",
      "  }, \n",
      "  \"6001400200\": {\n",
      "    \"Feature Number 4\": 4444, \n",
      "    \"Feature Number 1\": 1111, \n",
      "    \"Feature Number 3\": 3333, \n",
      "    \"Feature Number 2\": 2222\n",
      "  }\n",
      "}\n",
      "\n",
      "\n",
      "{\"6001400100\": {\"Feature Number 4\": 4444, \"Feature Number 1\": 1111, \"Feature Number 3\": 3333, \"Feature Number 2\": 2222}, \"6001400300\": {\"Feature Number 4\": 4444, \"Feature Number 1\": 1111, \"Feature Number 3\": 3333, \"Feature Number 2\": 2222}, \"6001400200\": {\"Feature Number 4\": 4444, \"Feature Number 1\": 1111, \"Feature Number 3\": 3333, \"Feature Number 2\": 2222}}\n"
     ]
    }
   ],
   "source": [
    "# Write some test code to write and read JSON objects for only a few census tracts\n",
    "test_write = {str(tract_num): feature_dict for tract_num in tract_numbers[:3]}\n",
    "\n",
    "with open('./census-tract-feature-values.js', 'w') as file_out:\n",
    "    file_out.write(json.dumps(test_write, indent = 2))\n",
    "    \n",
    "with open('./census-tract-feature-values.js', 'r') as file_in:\n",
    "    print file_in.read()\n",
    "    \n",
    "with open('./census-tract-feature-values.js', 'r') as file_in:\n",
    "    test_read = json.load(file_in)\n",
    "    \n",
    "assert(test_read is not None)\n",
    "print \"\\n\\n\" + json.dumps(test_read)"
   ]
  },
  {
   "cell_type": "code",
   "execution_count": 7,
   "metadata": {},
   "outputs": [
    {
     "name": "stdout",
     "output_type": "stream",
     "text": [
      "var tract_features = {\n",
      "\n",
      "  \"6065046602\": {\n",
      "\n",
      "    \"Feature Number 4\": 4444, \n",
      "\n",
      "    \"Feature Number 1\": 1111, \n",
      "\n",
      "    \"Feature Number 3\": 3333, \n",
      "\n",
      "    \"Feature Number 2\": 2222\n",
      "\n",
      "  }, \n",
      "\n",
      "  \"6065046601\": {\n",
      "\n",
      "    \"Feature Number 4\": 4444, \n",
      "\n",
      "    \"Feature Number 1\": 1111, \n",
      "\n",
      "    \"Feature Number 3\": 3333, \n",
      "\n",
      "    \"Feature Number 2\": 2222\n",
      "\n",
      "  }, \n",
      "\n",
      "  \"6115041100\": {\n",
      "\n",
      "    \"Feature Number 4\": 4444, \n",
      "\n",
      "    \"Feature Number 1\": 1111, \n",
      "\n",
      "    \"Feature Number 3\": 3333, \n",
      "\n",
      "    \"Feature Number 2\": 2222\n",
      "\n",
      "  }, \n",
      "\n",
      "  \"6075012202\": {\n",
      "\n",
      "    \"Feature Number 4\": 4444, \n",
      "\n",
      "    \"Feature Number 1\": 1111, \n",
      "\n",
      "    \"Feature Number 3\": 3333, \n",
      "\n",
      "    \"Feature Number 2\": 2222\n",
      "\n",
      "  }, \n",
      "\n"
     ]
    }
   ],
   "source": [
    "# Write and read JSON objects for the entire list of census tracts\n",
    "full_write = {str(tract_num): feature_dict for tract_num in tract_numbers}\n",
    "\n",
    "with open('./census-tract-feature-values.js', 'w') as file_out:\n",
    "    file_out.write(\"var tract_features = \")\n",
    "    file_out.write(json.dumps(full_write, indent = 2))\n",
    "    \n",
    "with open('./census-tract-feature-values.js', 'r') as file_in:\n",
    "    for i in range(25):\n",
    "        print file_in.readline()\n",
    "    \n",
    "# with open('./census-tract-feature-values.json', 'r') as file_in:\n",
    "#     full_read = json.load(file_in)\n",
    "    \n",
    "# assert(full_read is not None)\n",
    "# print len(full_read)"
   ]
  },
  {
   "cell_type": "code",
   "execution_count": null,
   "metadata": {
    "collapsed": true
   },
   "outputs": [],
   "source": []
  }
 ],
 "metadata": {
  "kernelspec": {
   "display_name": "Python 2",
   "language": "python",
   "name": "python2"
  },
  "language_info": {
   "codemirror_mode": {
    "name": "ipython",
    "version": 2
   },
   "file_extension": ".py",
   "mimetype": "text/x-python",
   "name": "python",
   "nbconvert_exporter": "python",
   "pygments_lexer": "ipython2",
   "version": "2.7.13"
  }
 },
 "nbformat": 4,
 "nbformat_minor": 2
}
